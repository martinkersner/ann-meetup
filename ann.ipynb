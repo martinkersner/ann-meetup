{
 "cells": [
  {
   "cell_type": "markdown",
   "metadata": {},
   "source": [
    "# Artificial Neural Networks\n",
    "## Seoul AI Meetup, June 25\n",
    "Martin Kersner, <m.kersner@gmail.com>\n",
    "\n",
    "Inspired by http://neuralnetworksanddeeplearning.com/ and https://github.com/mnielsen/neural-networks-and-deep-learning/blob/master/src/network.py.\n",
    "\n",
    "* Perceptron\n",
    "* Multilayer perceptron\n",
    "* Backpropagation\n",
    "* Forward pass\n",
    "    * Activation functions\n",
    "* Backward pass\n",
    "    * Stochastic Gradient Descent\n",
    "    * Weights update\n",
    "* MNIST\n",
    "* Keras"
   ]
  },
  {
   "cell_type": "code",
   "execution_count": 1,
   "metadata": {
    "collapsed": true
   },
   "outputs": [],
   "source": [
    "from __future__ import division\n",
    "import random\n",
    "import numpy as np\n",
    "from utils import *\n",
    "import matplotlib.pyplot as plt\n",
    "\n",
    "%matplotlib inline"
   ]
  },
  {
   "cell_type": "markdown",
   "metadata": {},
   "source": [
    "## Perceptron\n",
    "\n",
    "<img src=\"https://raw.githubusercontent.com/martinkersner/ann-meetup/master/files/perceptron.png\" />"
   ]
  },
  {
   "cell_type": "code",
   "execution_count": 2,
   "metadata": {},
   "outputs": [
    {
     "name": "stdout",
     "output_type": "stream",
     "text": [
      "[[ 2.77]]\n"
     ]
    }
   ],
   "source": [
    "# PERCEPTRON - MATRIX MULTIPLICATION EXAMPLE\n",
    "\n",
    "# weights\n",
    "# w_1 = 1\n",
    "# w_2 = 1.1\n",
    "# w_3 = 0.1\n",
    "# w_4 = 0.2\n",
    "W = np.matrix([[1.0, 1.1, 0.1, 0.2]])\n",
    "\n",
    "# input data\n",
    "# x_1 = 0.5\n",
    "# x_2 = 0.7\n",
    "# x_3 = 3\n",
    "# x_4 = 1.0\n",
    "X = np.matrix([[0.5],\n",
    "               [0.7],\n",
    "               [3],\n",
    "               [1.0]])\n",
    "\n",
    "# bias\n",
    "b = 1\n",
    "\n",
    "# forward pass\n",
    "z = np.dot(W, X) + b\n",
    "print(z)\n",
    "\n",
    "# Activation function\n",
    "# a = activation_function(z)"
   ]
  },
  {
   "cell_type": "markdown",
   "metadata": {},
   "source": [
    "## Multilayer perceptron\n",
    "\n",
    "<img src=\"https://raw.githubusercontent.com/martinkersner/ann-meetup/master/files/multi-layer-perceptron.png\" />"
   ]
  },
  {
   "cell_type": "code",
   "execution_count": 3,
   "metadata": {},
   "outputs": [
    {
     "name": "stdout",
     "output_type": "stream",
     "text": [
      "[[ 3.05]\n",
      " [ 1.55]\n",
      " [ 3.18]]\n"
     ]
    }
   ],
   "source": [
    "# MULTILAYER PERCEPTRON - MATRIX MULTIPLICATION EXAMPLE\n",
    "\n",
    "# weights\n",
    "# w_11 = 1.0\n",
    "# w_12 = 1.1\n",
    "# w_13 = 1.3\n",
    "# w_21 = 0.1\n",
    "# w_22 = 0.2\n",
    "# w_23 = 0.6\n",
    "# w_31 = 0.4\n",
    "# w_32 = 1.2\n",
    "# w_32 = 1.9\n",
    "W = np.matrix([[1.0, 1.1, 1.3], \n",
    "               [0.1, 0.2, 0.6],\n",
    "               [0.4, 1.2, 1.9]])\n",
    "\n",
    "# input data\n",
    "# x_1 = 0.5\n",
    "# x_2 = 0.7\n",
    "# x_3 = 0.6\n",
    "X = np.matrix([[0.5],\n",
    "               [0.7],\n",
    "               [0.6]])\n",
    "\n",
    "# biases\n",
    "b = np.matrix([[1.0],\n",
    "               [1.0],\n",
    "               [1.0]])\n",
    "\n",
    "\n",
    "# forward pass\n",
    "z = np.dot(W, X) + b\n",
    "print(z)\n",
    "\n",
    "# Activation function\n",
    "# a = activation_function(z)"
   ]
  },
  {
   "cell_type": "markdown",
   "metadata": {},
   "source": [
    "## Bias and weight initialization\n",
    "\n",
    "http://cs231n.github.io/neural-networks-2/#init"
   ]
  },
  {
   "cell_type": "code",
   "execution_count": 4,
   "metadata": {
    "collapsed": true
   },
   "outputs": [],
   "source": [
    "# The biases and weights for the network are initialized randomly, using a Gaussian distribution\n",
    "# with mean 0, and variance 1.\n",
    "def init_biases(layers, seed=None):\n",
    "    if seed:\n",
    "        np.random.seed(seed)\n",
    "\n",
    "    return [np.random.randn(y, 1) for y in layers[1:]]\n",
    "    \n",
    "def init_weights(layers, seed=None):\n",
    "    if seed:\n",
    "        np.random.seed(seed)\n",
    "\n",
    "    return [np.random.randn(y, x) for x, y in zip(layers[:-1], layers[1:])]\n",
    "\n",
    "# 3-layer neural network\n",
    "# input layer 10 neurons\n",
    "# hidden layer 15 neurons\n",
    "# output layer 7 neurons\n",
    "layers_tmp = [10, 15, 7]\n",
    "\n",
    "biases_tmp = init_biases(layers_tmp)\n",
    "weights_tmp = init_weights(layers_tmp)"
   ]
  },
  {
   "cell_type": "code",
   "execution_count": 5,
   "metadata": {},
   "outputs": [
    {
     "name": "stdout",
     "output_type": "stream",
     "text": [
      "15\n",
      "7\n"
     ]
    }
   ],
   "source": [
    "# BIASES in layers\n",
    "for b in biases_tmp:\n",
    "    print(len(b))"
   ]
  },
  {
   "cell_type": "code",
   "execution_count": 6,
   "metadata": {},
   "outputs": [
    {
     "name": "stdout",
     "output_type": "stream",
     "text": [
      "[array([[-0.25737464],\n",
      "       [ 0.55362573],\n",
      "       [-0.10221139],\n",
      "       [-0.59992036],\n",
      "       [-1.62241036],\n",
      "       [ 0.43576676],\n",
      "       [-0.34969519],\n",
      "       [ 0.56349974],\n",
      "       [ 1.77925259],\n",
      "       [-0.66761541],\n",
      "       [-1.56438705],\n",
      "       [-1.04157119],\n",
      "       [ 0.54628843],\n",
      "       [ 1.51678928],\n",
      "       [ 0.53417376]]), array([[ 0.2602673 ],\n",
      "       [-0.47752934],\n",
      "       [-0.50317898],\n",
      "       [-0.27892433],\n",
      "       [-1.75599699],\n",
      "       [ 1.09356818],\n",
      "       [ 1.12156592]])]\n"
     ]
    }
   ],
   "source": [
    "# BIAS VALUES\n",
    "print(biases_tmp)"
   ]
  },
  {
   "cell_type": "code",
   "execution_count": 7,
   "metadata": {},
   "outputs": [
    {
     "name": "stdout",
     "output_type": "stream",
     "text": [
      "(15, 10)\n",
      "(7, 15)\n"
     ]
    }
   ],
   "source": [
    "# WEIGHTS in layers\n",
    "for w in weights_tmp:\n",
    "    print(w.shape)"
   ]
  },
  {
   "cell_type": "code",
   "execution_count": 8,
   "metadata": {},
   "outputs": [
    {
     "name": "stdout",
     "output_type": "stream",
     "text": [
      "[array([[ 0.167426  , -0.48833111,  0.60435379,  1.34116227, -2.5768881 ,\n",
      "        -0.30242413, -1.17350664, -0.27993951, -0.46379308, -0.98717482],\n",
      "       [-0.80974891, -0.92852838, -1.06209342, -0.31140955,  1.29728068,\n",
      "        -0.21615286,  0.98829445,  0.04929081,  1.02718561, -1.10777653],\n",
      "       [-0.53353255,  0.79577082,  0.24597882,  1.15107224, -0.70823708,\n",
      "         0.10123768,  0.88813369, -1.10419784,  2.34624897, -0.83482303],\n",
      "       [-0.03303552, -1.35379417,  0.22327732, -1.65481561,  1.25992028,\n",
      "         0.48082545, -0.10499673, -0.13083882,  0.01840625, -0.61046302],\n",
      "       [-0.72673898,  0.09248858, -0.52800636, -1.10853591, -0.93833256,\n",
      "         1.22272841, -0.04067013,  0.63642346, -1.27425548,  0.33382191],\n",
      "       [ 0.05845473,  0.29347716,  1.90696657,  0.79483995,  1.51025489,\n",
      "         0.42684221,  1.08300445,  1.55563434, -0.17696019, -0.09416082],\n",
      "       [-0.64925516, -0.87171936,  1.24267575, -1.47232229,  0.40938753,\n",
      "         0.88414205, -0.6780525 , -0.11243077, -0.42194374, -0.45679317],\n",
      "       [-1.15461599, -0.58146954,  0.65438972,  0.19297037,  0.66439281,\n",
      "         0.85966585, -0.54047103,  0.65129445, -0.58295632, -0.57389787],\n",
      "       [ 0.36136993, -0.54409195, -0.84673624,  0.45380584,  0.72773624,\n",
      "         1.06966993, -0.70290797,  0.48075416,  0.73464488,  0.57343507],\n",
      "       [-0.20617185,  0.48059872,  0.89522562, -1.04015445, -1.8722726 ,\n",
      "        -1.16820697, -0.46063836, -2.12141017,  2.39127386, -1.09740964],\n",
      "       [-1.50842115, -0.82698017, -0.34954173,  0.09681168,  0.68451174,\n",
      "         1.04089559, -0.49065292, -0.40271721,  1.56789789,  0.5640252 ],\n",
      "       [ 0.24899885, -0.38050618,  1.3659289 ,  0.34013535, -0.08273547,\n",
      "         0.82690967,  1.7322399 , -1.32705128, -0.04607715, -0.30966697],\n",
      "       [-2.29243675,  0.21127865,  0.98915344,  0.0614802 ,  1.8736679 ,\n",
      "        -0.33067574,  1.06317346, -0.6727538 , -1.17043178,  1.40734641],\n",
      "       [-1.37841877,  1.64500871,  0.63113303,  0.09932405, -0.36995803,\n",
      "         1.08870363, -0.90030591, -0.40468743,  0.12511797, -0.93230732],\n",
      "       [-0.32542782, -0.39843504, -0.26236427, -0.64555395,  0.17654797,\n",
      "        -1.50672462,  0.34803229, -0.32313614, -1.15739655,  0.17662257]]), array([[-0.05770766,  0.58591345,  0.4133613 , -0.34895154,  1.68265596,\n",
      "         0.08513075,  0.899995  , -0.42265221, -0.03457919,  0.30323808,\n",
      "         1.01056739,  0.32003479,  0.76217605,  0.45929511, -1.59508766],\n",
      "       [-2.41275244,  0.64013838,  1.07850639, -1.19561853,  0.73567606,\n",
      "        -0.46188291,  0.60648608, -0.41618472,  0.2573017 ,  1.35670878,\n",
      "         0.13073312,  1.0898972 ,  0.12958444,  1.36650863,  0.95688085],\n",
      "       [ 1.57447718, -0.5221992 ,  0.01331536,  2.35246512,  0.74997681,\n",
      "         0.44976711,  1.25729291, -0.01712702, -0.35382292, -1.72844693,\n",
      "         1.23083669,  1.05846623, -0.96608872, -0.3382233 , -1.14250518],\n",
      "       [-1.11703132, -0.11286613, -0.5222665 , -1.18054625,  1.37690457,\n",
      "         1.61654385,  0.0047406 ,  1.17875314, -0.22872248,  0.42216566,\n",
      "        -0.59254178, -1.33311878, -1.30554562, -0.43405369,  1.06463499],\n",
      "       [ 0.50593085, -0.55350916,  0.11047075,  0.1536253 ,  0.33138184,\n",
      "         0.08630042, -1.16558843, -1.10430674,  0.15926422,  0.61100646,\n",
      "        -1.27728378, -0.17256083, -0.13572182, -0.45580347,  1.35399009],\n",
      "       [-0.00747703,  0.40834442,  0.35332599,  0.80982323,  0.79685338,\n",
      "         0.70608633,  0.25045832,  0.89630688, -0.54303757,  0.20204423,\n",
      "        -2.07143112, -0.10177457, -0.68365507,  1.12012307, -0.01425369],\n",
      "       [ 0.23763017, -0.49075214, -0.77726777,  0.40433835,  0.1166822 ,\n",
      "        -0.36344437, -0.6156938 ,  0.91933102, -0.25867831,  2.03466733,\n",
      "         0.46366795, -1.02724657,  1.33695376, -0.11011395, -0.76492217]])]\n"
     ]
    }
   ],
   "source": [
    "# WEIGHTS\n",
    "print(weights_tmp)"
   ]
  },
  {
   "cell_type": "markdown",
   "metadata": {},
   "source": [
    "## Sigmoid activation function\n",
    "\n",
    "* Introduces non-linearity\n",
    "* Saturation problem\n",
    "\n",
    "<img src=\"https://raw.githubusercontent.com/martinkersner/ann-meetup/master/files/sigmoid.png\" />\n",
    "\n",
    "Other types of activation functions http://cs231n.github.io/neural-networks-1/#actfun:\n",
    "* Tanh\n",
    "* ReLU\n",
    "* Leaky ReLU\n",
    "* ELU\n",
    "* Maxout"
   ]
  },
  {
   "cell_type": "code",
   "execution_count": 9,
   "metadata": {
    "collapsed": true
   },
   "outputs": [],
   "source": [
    "def sigmoid(z):\n",
    "    return 1.0/(1.0+np.exp(-z))"
   ]
  },
  {
   "cell_type": "code",
   "execution_count": 10,
   "metadata": {},
   "outputs": [
    {
     "data": {
      "text/plain": [
       "[<matplotlib.lines.Line2D at 0x7f3c85999310>]"
      ]
     },
     "execution_count": 10,
     "metadata": {},
     "output_type": "execute_result"
    },
    {
     "data": {
      "image/png": "[encoded data removed]",
      "text/plain": [
       "<matplotlib.figure.Figure at 0x7f3c5207df10>"
      ]
     },
     "metadata": {},
     "output_type": "display_data"
    }
   ],
   "source": [
    "# Sigmoid function plot\n",
    "x = np.linspace(-7, 7, 80)\n",
    "plt.plot(x, sigmoid(x))\n",
    "\n",
    "# center of sigmoid\n",
    "plt.plot([0,0], [0, 1], c='orange')\n",
    "plt.plot([-7,7], [0.5, 0.5], c='orange')"
   ]
  },
  {
   "cell_type": "markdown",
   "metadata": {},
   "source": [
    "## Forward pass"
   ]
  },
  {
   "cell_type": "code",
   "execution_count": 11,
   "metadata": {
    "collapsed": true
   },
   "outputs": [],
   "source": [
    "def feedforward(biases, weights, a):\n",
    "    for b, w in zip(biases, weights):\n",
    "        a = sigmoid(np.dot(w, a)+b)\n",
    "        \n",
    "    return np.argmax(a)"
   ]
  },
  {
   "cell_type": "markdown",
   "metadata": {},
   "source": [
    "## Backward pass\n",
    "\n",
    "* Derivative of sigmoid (http://www.ai.mit.edu/courses/6.892/lecture8-html/sld015.htm)"
   ]
  },
  {
   "cell_type": "code",
   "execution_count": 12,
   "metadata": {
    "collapsed": true
   },
   "outputs": [],
   "source": [
    "# Take a single training example, forward it through network, computes cost\n",
    "# and compute gradient of weights and biases for each neuron.\n",
    "def backprop(biases, weights, x, y):\n",
    "    # Derivate of sigmoid\n",
    "    def sigmoid_prime(z):\n",
    "        return sigmoid(z)*(1-sigmoid(z))\n",
    "    \n",
    "    # Derivative of mean squared error\n",
    "    def cost_derivative(output_activations, y):\n",
    "        return (output_activations-y)    \n",
    "    \n",
    "    # gradients of the cost function for each layer\n",
    "    nabla_b = zeros_like(biases)\n",
    "    nabla_w = zeros_like(weights)\n",
    "    \n",
    "    # FORWARD PASS\n",
    "    activation = x\n",
    "    activations = [x] # list to store all the activations, layer by layer\n",
    "    zs = [] # list to store all the z vectors, layer by layer\n",
    "    \n",
    "    for b, w in zip(biases, weights):\n",
    "        z = np.dot(w, activation)+b        \n",
    "        activation = sigmoid(z)\n",
    "        \n",
    "        # store all previous z and a vectors\n",
    "        zs.append(z)\n",
    "        activations.append(activation)\n",
    "        \n",
    "    # BACKWARD PASS\n",
    "    # the last layer\n",
    "    loss = cost_derivative(activations[-1], y)\n",
    "    delta = loss * sigmoid_prime(zs[-1])\n",
    "#     delta = np.mean(np.square(loss)) * loss * sigmoid_prime(zs[-1])\n",
    "    nabla_b[-1] = delta\n",
    "    nabla_w[-1] = np.dot(delta, activations[-2].transpose())\n",
    "    \n",
    "    # previous layers\n",
    "    # going backwards layer by layer\n",
    "    num_layers = len(weights)+1\n",
    "    for l in xrange(2, num_layers):\n",
    "        z = zs[-l]\n",
    "        sp = sigmoid_prime(z)\n",
    "        delta = np.dot(weights[-l+1].transpose(), delta) * sp\n",
    "        \n",
    "        nabla_b[-l] = delta\n",
    "        nabla_w[-l] = np.dot(delta, activations[-l-1].transpose())\n",
    "        \n",
    "    return (nabla_b, nabla_w, np.mean(np.square(loss)))"
   ]
  },
  {
   "cell_type": "markdown",
   "metadata": {},
   "source": [
    "## Stochastic Gradient Descent (aka SGD)\n",
    "* Stochastic\n",
    "* Gradient\n",
    "* Descent\n",
    "\n",
    "<img src=\"https://raw.githubusercontent.com/martinkersner/ann-meetup/master/files/gradient-descent.png\" />\n",
    "\n",
    "<img src=\"https://raw.githubusercontent.com/martinkersner/ann-meetup/master/files/sgd-update.png\" />\n",
    "\n",
    "### Learning rate (aka eta)\n",
    "Learning rate represents size of step during gradient descent.\n",
    "\n",
    "### Minibatch\n",
    "Minibatch is randomly selected training inputs of fixed size."
   ]
  },
  {
   "cell_type": "code",
   "execution_count": 13,
   "metadata": {
    "collapsed": true
   },
   "outputs": [],
   "source": [
    "# Update weights.\n",
    "def update_mini_batch(biases, weights, mini_batch, eta):\n",
    "    def update(v, nv, eta, mini_batch_size):\n",
    "        return v-(eta/mini_batch_size)*nv\n",
    "    \n",
    "    def cumulate(nabla_v, delta_nabla_v):\n",
    "        return [nv+dnv for nv, dnv in zip(nabla_v, delta_nabla_v)]\n",
    "        \n",
    "    nabla_b = zeros_like(biases)\n",
    "    nabla_w = zeros_like(weights)\n",
    "    loss = 0\n",
    "    \n",
    "    # Collect weights and bias gradients for each minibatch and sum them\n",
    "    for x, y in mini_batch:\n",
    "        delta_nabla_b, delta_nabla_w, loss_tmp = backprop(biases, weights, x, y)\n",
    "        \n",
    "        nabla_b = cumulate(nabla_b, delta_nabla_b)\n",
    "        nabla_w = cumulate(nabla_w, delta_nabla_w)\n",
    "        loss += loss_tmp\n",
    "    \n",
    "    mini_batch_size = len(mini_batch)\n",
    "    \n",
    "    weights = [update(w, nw, eta, mini_batch_size)\n",
    "               for w, nw in zip(weights, nabla_w)]\n",
    "    \n",
    "    biases = [update(b, nb, eta, mini_batch_size)\n",
    "              for b, nb in zip(biases, nabla_b)]\n",
    "    \n",
    "    return biases, weights, loss/mini_batch_size"
   ]
  },
  {
   "cell_type": "markdown",
   "metadata": {},
   "source": [
    "## Training\n",
    "* **Epoch** full pass through the training set. ([reference](http://ufldl.stanford.edu/tutorial/supervised/OptimizationStochasticGradientDescent/))"
   ]
  },
  {
   "cell_type": "code",
   "execution_count": 14,
   "metadata": {},
   "outputs": [],
   "source": [
    "def SGD(biases, weights, training_data, epochs, mini_batch_size, eta, test_data=None, seed=None):\n",
    "    def evaluate(biases, weights, data, training_data_evalution=False):\n",
    "        if training_data_evalution:\n",
    "            test_results = [(feedforward(biases, weights, x), np.argmax(y)) for (x, y) in data]\n",
    "        else:\n",
    "            test_results = [(feedforward(biases, weights, x), y) for (x, y) in data]\n",
    "\n",
    "        return sum(int(x == y) for (x, y) in test_results)\n",
    "    \n",
    "    if test_data:\n",
    "        n_test = len(test_data)\n",
    "\n",
    "    n = len(training_data)\n",
    "    test_acc_lst = []\n",
    "    train_acc_lst = []\n",
    "    loss_lst = []\n",
    "    \n",
    "    if not seed:\n",
    "        np.random.seed(seed)\n",
    "    \n",
    "    for j in xrange(epochs):\n",
    "        random.shuffle(training_data)\n",
    "        \n",
    "        mini_batches = [training_data[k:k+mini_batch_size] for k in xrange(0, n, mini_batch_size)]\n",
    "        loss = 0\n",
    "        \n",
    "        for mini_batch in mini_batches:\n",
    "            biases, weights, loss_tmp = update_mini_batch(biases, weights, mini_batch, eta)\n",
    "            loss += loss_tmp\n",
    "            \n",
    "        loss /= len(mini_batches)\n",
    "        loss_lst.append(loss)\n",
    "        \n",
    "        if test_data:\n",
    "            test_acc = evaluate(biases, weights, test_data)\n",
    "            test_acc_lst.append(test_acc/n_test)\n",
    "            \n",
    "            train_acc = evaluate(biases, weights, training_data, training_data_evalution=True)\n",
    "            train_acc_lst.append(train_acc/n)\n",
    "            \n",
    "            print(\"Epoch {0}, acc: {1}, loss: {2}\".format(j, test_acc/n_test, loss))\n",
    "        else:\n",
    "            print(\"Epoch {0} complete, loss: {3}\".format(j, loss))\n",
    "            \n",
    "    return biases, weights, train_acc_lst, test_acc_lst, loss_lst"
   ]
  },
  {
   "cell_type": "markdown",
   "metadata": {},
   "source": [
    "## MNIST dataset\n",
    "* http://yann.lecun.com/exdb/mnist/\n",
    "* 28 by 28 pixels\n",
    "* grayscale images"
   ]
  },
  {
   "cell_type": "code",
   "execution_count": 15,
   "metadata": {},
   "outputs": [
    {
     "name": "stdout",
     "output_type": "stream",
     "text": [
      "number of training examples: 50000\n",
      "number of validation examples: 10000\n",
      "number of test examples: 10000\n"
     ]
    }
   ],
   "source": [
    "import mnist_loader\n",
    "training_data, validation_data, test_data = mnist_loader.load_data_wrapper()\n",
    "\n",
    "print(\"number of training examples: {0:1d}\".format(len(training_data)))\n",
    "print(\"number of validation examples: {0:1d}\".format(len(validation_data)))\n",
    "print(\"number of test examples: {0:1d}\".format(len(test_data)))"
   ]
  },
  {
   "cell_type": "markdown",
   "metadata": {},
   "source": [
    "## Data"
   ]
  },
  {
   "cell_type": "code",
   "execution_count": 16,
   "metadata": {},
   "outputs": [
    {
     "name": "stdout",
     "output_type": "stream",
     "text": [
      "7\n"
     ]
    },
    {
     "data": {
      "image/png": "[encoded data removed]",
      "text/plain": [
       "<matplotlib.figure.Figure at 0x7f3c50046550>"
      ]
     },
     "metadata": {},
     "output_type": "display_data"
    }
   ],
   "source": [
    "def get_sample(data, idx):\n",
    "    X_rand = data[idx][0]\n",
    "    y_rand = data[idx][1]\n",
    "    \n",
    "    return X_rand, y_rand\n",
    "\n",
    "def display_digit(data, idx=None):\n",
    "    \"\"\" If idx parameter is not specified display random data sample. \"\"\"\n",
    "    if idx == None:\n",
    "        idx = random.randint(0, len(data)-1)\n",
    "    \n",
    "    X_tmp, y_tmp = get_sample(data, idx)\n",
    "\n",
    "    img = X_tmp.reshape((28, 28))\n",
    "    plt.figure()\n",
    "    plt.imshow(img, cmap='gray')\n",
    "    \n",
    "    if isinstance(y_tmp, int):\n",
    "        print(y_tmp)\n",
    "    else:\n",
    "        print(np.argmax(y_tmp))\n",
    "    \n",
    "display_digit(training_data)"
   ]
  },
  {
   "cell_type": "markdown",
   "metadata": {},
   "source": [
    "### One-hot encoding"
   ]
  },
  {
   "cell_type": "code",
   "execution_count": 17,
   "metadata": {},
   "outputs": [
    {
     "name": "stdout",
     "output_type": "stream",
     "text": [
      "[[ 0.]\n",
      " [ 0.]\n",
      " [ 1.]\n",
      " [ 0.]\n",
      " [ 0.]\n",
      " [ 0.]\n",
      " [ 0.]\n",
      " [ 0.]\n",
      " [ 0.]\n",
      " [ 0.]]\n",
      "2\n"
     ]
    },
    {
     "data": {
      "image/png": "[encoded data removed]",
      "text/plain": [
       "<matplotlib.figure.Figure at 0x7f3c4ffdf4d0>"
      ]
     },
     "metadata": {},
     "output_type": "display_data"
    }
   ],
   "source": [
    "def display_random_one_hot_encoding(data):\n",
    "    rand_idx = random.randint(0, len(data)-1)    \n",
    "    _, y_rand = get_sample(data, rand_idx)\n",
    "    \n",
    "    print(y_rand)\n",
    "    plt.figure()\n",
    "    plt.imshow(y_rand.T, cmap='gray')\n",
    "    print(np.argmax(y_rand))\n",
    "    \n",
    "display_random_one_hot_encoding(training_data)"
   ]
  },
  {
   "cell_type": "markdown",
   "metadata": {},
   "source": [
    "### Training"
   ]
  },
  {
   "cell_type": "code",
   "execution_count": 18,
   "metadata": {},
   "outputs": [
    {
     "name": "stdout",
     "output_type": "stream",
     "text": [
      "Epoch 0, acc: 0.9091, loss: 0.0273924328503\n",
      "Epoch 1, acc: 0.9217, loss: 0.0140665967117\n",
      "Epoch 2, acc: 0.9346, loss: 0.0120367724391\n",
      "Epoch 3, acc: 0.9381, loss: 0.0108929503366\n",
      "Epoch 4, acc: 0.9397, loss: 0.0101313110073\n"
     ]
    }
   ],
   "source": [
    "# The first layer containing 784 neurons (784 pixels as input), \n",
    "# the second layer 30 neurons (arbitrarily chosen),\n",
    "# and the output layer has 10 neurons (one-hot encoding for 10 different values).\n",
    "layers = [784, 30, 10]\n",
    "\n",
    "seed = 6 # seed number to get always the same weights and biases\n",
    "\n",
    "# randomly initialize weights and biases\n",
    "biases = init_biases(layers, seed=seed)\n",
    "weights = init_weights(layers, seed=seed)\n",
    "\n",
    "# Training hyperparameters\n",
    "epochs=5\n",
    "batch_size=10\n",
    "eta=3.0\n",
    "\n",
    "# Train\n",
    "biases_final, weights_final, train_acc, test_acc, loss = SGD(biases, weights, training_data, \\\n",
    "                                                             epochs, batch_size, eta, \\\n",
    "                                                             test_data=validation_data, seed=seed)\n",
    "\n",
    "# Do not evaluate model after each epoch \n",
    "# biases_final, weights_final, _, _, loss = SGD(biases, weights, training_data, \\\n",
    "#                                               epochs, mini_batch_size, eta, \\\n",
    "#                                               seed=seed)"
   ]
  },
  {
   "cell_type": "code",
   "execution_count": 19,
   "metadata": {},
   "outputs": [
    {
     "data": {
      "text/plain": [
       "<matplotlib.text.Text at 0x7f3c4ff73350>"
      ]
     },
     "execution_count": 19,
     "metadata": {},
     "output_type": "execute_result"
    },
    {
     "data": {
      "image/png": "[encoded data removed]",
      "text/plain": [
       "<matplotlib.figure.Figure at 0x7f3c4ef2ef10>"
      ]
     },
     "metadata": {},
     "output_type": "display_data"
    }
   ],
   "source": [
    "# Plot training curves\n",
    "plt.plot(range(len(test_acc)),  test_acc,  c=\"r\", label='Test accuracy')\n",
    "plt.plot(range(len(train_acc)), train_acc, c=\"b\", label='Train accuracy')\n",
    "plt.legend()\n",
    "plt.ylabel(\"accuracy\")\n",
    "plt.xlabel(\"epochs\")"
   ]
  },
  {
   "cell_type": "code",
   "execution_count": 20,
   "metadata": {},
   "outputs": [
    {
     "data": {
      "text/plain": [
       "<matplotlib.text.Text at 0x7f3c4f01e2d0>"
      ]
     },
     "execution_count": 20,
     "metadata": {},
     "output_type": "execute_result"
    },
    {
     "data": {
      "image/png": "[encoded data removed]",
      "text/plain": [
       "<matplotlib.figure.Figure at 0x7f3c4ef654d0>"
      ]
     },
     "metadata": {},
     "output_type": "display_data"
    }
   ],
   "source": [
    "# Plot training loss\n",
    "plt.plot(range(len(loss)), loss, c=\"r\", label='Training loss')\n",
    "plt.legend()\n",
    "plt.ylabel(\"loss\")\n",
    "plt.xlabel(\"epochs\")"
   ]
  },
  {
   "cell_type": "markdown",
   "metadata": {},
   "source": [
    "### Evaluation on test dataset"
   ]
  },
  {
   "cell_type": "code",
   "execution_count": 21,
   "metadata": {},
   "outputs": [
    {
     "name": "stdout",
     "output_type": "stream",
     "text": [
      "             precision    recall  f1-score   support\n",
      "\n",
      "          0       0.93      0.99      0.96       980\n",
      "          1       0.97      0.98      0.98      1135\n",
      "          2       0.93      0.93      0.93      1032\n",
      "          3       0.94      0.92      0.93      1010\n",
      "          4       0.93      0.94      0.94       982\n",
      "          5       0.92      0.91      0.91       892\n",
      "          6       0.96      0.95      0.95       958\n",
      "          7       0.94      0.94      0.94      1028\n",
      "          8       0.92      0.94      0.93       974\n",
      "          9       0.94      0.89      0.92      1009\n",
      "\n",
      "avg / total       0.94      0.94      0.94     10000\n",
      "\n"
     ]
    },
    {
     "data": {
      "image/png": "[encoded data removed]",
      "text/plain": [
       "<matplotlib.figure.Figure at 0x7f3c7fd7cb90>"
      ]
     },
     "metadata": {},
     "output_type": "display_data"
    }
   ],
   "source": [
    "from sklearn.metrics import confusion_matrix\n",
    "from sklearn.metrics import classification_report\n",
    "\n",
    "y_pred = []\n",
    "y_true = []\n",
    "\n",
    "for test_idx in range(len(test_data)):\n",
    "    X_test = test_data[test_idx][0]\n",
    "    y_test = test_data[test_idx][1]\n",
    "    \n",
    "    y_true.append(y_test)\n",
    "    y_pred.append(feedforward(biases_final, weights_final, X_test))\n",
    "\n",
    "# Confusion matrix\n",
    "plt.imshow(confusion_matrix(y_true, y_pred), cmap=\"jet\")\n",
    "\n",
    "# Precision, Recall, F1-score, Support\n",
    "print(classification_report(y_true, y_pred))"
   ]
  },
  {
   "cell_type": "markdown",
   "metadata": {},
   "source": [
    "## Keras: The Python Deep Learning library\n",
    "https://keras.io/\n",
    "\n",
    "Keras high-level neural networks API, written in Python and capable of running on top of either **TensorFlow**, CNTK or Theano. "
   ]
  },
  {
   "cell_type": "code",
   "execution_count": 22,
   "metadata": {
    "collapsed": true
   },
   "outputs": [],
   "source": [
    "def mnist4keras(data):\n",
    "    int_type = False\n",
    "    if isinstance(data[0][1], int):\n",
    "        int_type = True\n",
    "        \n",
    "    X = np.zeros((len(data), 784))\n",
    "    y = np.zeros((len(data), 10))\n",
    "    \n",
    "    for idx, data_tmp in enumerate(data):\n",
    "        X_tmp, y_tmp = data[idx]\n",
    "        X[idx] = X_tmp.T\n",
    "        \n",
    "        if int_type:\n",
    "            y[idx][y_tmp] = 1 # create one-hot encoding\n",
    "        else:\n",
    "            y[idx] = y_tmp.T\n",
    "    \n",
    "    return X, y"
   ]
  },
  {
   "cell_type": "markdown",
   "metadata": {},
   "source": [
    "### Design network and train model"
   ]
  },
  {
   "cell_type": "code",
   "execution_count": 23,
   "metadata": {},
   "outputs": [
    {
     "name": "stderr",
     "output_type": "stream",
     "text": [
      "Using TensorFlow backend.\n"
     ]
    },
    {
     "name": "stdout",
     "output_type": "stream",
     "text": [
      "Epoch 1/5\n",
      "50000/50000 [==============================] - 8s - loss: 0.0557 - acc: 0.5842     \n",
      "Epoch 2/5\n",
      "50000/50000 [==============================] - 8s - loss: 0.0322 - acc: 0.7769     \n",
      "Epoch 3/5\n",
      "50000/50000 [==============================] - 8s - loss: 0.0200 - acc: 0.8810     \n",
      "Epoch 4/5\n",
      "50000/50000 [==============================] - 8s - loss: 0.0167 - acc: 0.9004     \n",
      "Epoch 5/5\n",
      "50000/50000 [==============================] - 8s - loss: 0.0149 - acc: 0.9109     \n",
      " 9720/10000 [============================>.] - ETA: 0s\n",
      "\n",
      "Results on validation data\n",
      "loss: 0.013509\n",
      "accuracy: 0.919400\n"
     ]
    }
   ],
   "source": [
    "from keras.models import Sequential\n",
    "from keras.layers import Dense, Activation\n",
    "from keras.optimizers import SGD\n",
    "from keras.initializers import RandomNormal\n",
    "\n",
    "# Repeatability\n",
    "np.random.seed(seed) \n",
    "\n",
    "# Data preparation\n",
    "X_train, y_train = mnist4keras(training_data)\n",
    "X_valid, y_valid = mnist4keras(validation_data)\n",
    "\n",
    "# Network design\n",
    "model = Sequential()\n",
    "model.add(Dense(30, activation='sigmoid', input_dim=784,\n",
    "               kernel_initializer=RandomNormal(mean=0.0, stddev=1, seed=seed),\n",
    "               bias_initializer=RandomNormal(mean=0.0, stddev=1, seed=seed)))\n",
    "model.add(Dense(10, activation='sigmoid',\n",
    "               kernel_initializer=RandomNormal(mean=0.0, stddev=1, seed=seed),\n",
    "               bias_initializer=RandomNormal(mean=0.0, stddev=1, seed=seed)))\n",
    "\n",
    "# Set up training procedure: SGD, loss, metrics\n",
    "sgd = SGD(lr=eta)\n",
    "model.compile(loss='mean_squared_error', optimizer=sgd, metrics=['accuracy'])\n",
    "\n",
    "# Training\n",
    "model.fit(X_train, y_train, epochs=epochs, batch_size=batch_size)\n",
    "\n",
    "# Evaluation\n",
    "score = model.evaluate(X_valid, y_valid, batch_size=batch_size)\n",
    "\n",
    "print(\"\\n\\nResults on validation data\")\n",
    "print(\"loss: {0:3f}\".format(score[0]))\n",
    "print(\"accuracy: {0:3f}\".format(score[1]))"
   ]
  }
 ],
 "metadata": {
  "kernelspec": {
   "display_name": "Python 2",
   "language": "python",
   "name": "python2"
  },
  "language_info": {
   "codemirror_mode": {
    "name": "ipython",
    "version": 2
   },
   "file_extension": ".py",
   "mimetype": "text/x-python",
   "name": "python",
   "nbconvert_exporter": "python",
   "pygments_lexer": "ipython2",
   "version": "2.7.13"
  }
 },
 "nbformat": 4,
 "nbformat_minor": 2
}
