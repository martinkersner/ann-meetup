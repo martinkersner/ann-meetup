{
 "cells": [
  {
   "cell_type": "markdown",
   "metadata": {},
   "source": [
    "# Artificial Neural Networks - Seoul AI Meetup, June 25\n",
    "Martin Kersner, <m.kersner@gmail.com>\n",
    "\n",
    "Inspired by http://neuralnetworksanddeeplearning.com/ and https://github.com/mnielsen/neural-networks-and-deep-learning/blob/master/src/network.py.\n",
    "\n",
    "* Perceptron\n",
    "* Multilayer perceptron\n",
    "* Backpropagation\n",
    "* Forward pass\n",
    "    * Activation functions\n",
    "* Backward pass\n",
    "    * Stochastic Gradient Descent\n",
    "    * Weights update\n",
    "* MNIST\n",
    "* Keras"
   ]
  },
  {
   "cell_type": "code",
   "execution_count": 1,
   "metadata": {
    "collapsed": true
   },
   "outputs": [],
   "source": [
    "from __future__ import division\n",
    "import random\n",
    "import numpy as np\n",
    "from utils import *\n",
    "import matplotlib.pyplot as plt\n",
    "\n",
    "%matplotlib inline"
   ]
  },
  {
   "cell_type": "markdown",
   "metadata": {},
   "source": [
    "## Perceptron\n",
    "\n",
    "<img src=\"files/perceptron.png\" />"
   ]
  },
  {
   "cell_type": "code",
   "execution_count": 2,
   "metadata": {},
   "outputs": [
    {
     "name": "stdout",
     "output_type": "stream",
     "text": [
      "[[ 2.77]]\n"
     ]
    }
   ],
   "source": [
    "# PERCEPTRON - MATRIX MULTIPLICATION EXAMPLE\n",
    "\n",
    "# weights\n",
    "# w_1 = 1\n",
    "# w_2 = 1.1\n",
    "# w_3 = 0.1\n",
    "# w_4 = 0.2\n",
    "W = np.matrix([[1.0, 1.1, 0.1, 0.2]])\n",
    "\n",
    "# input data\n",
    "# x_1 = 0.5\n",
    "# x_2 = 0.7\n",
    "# x_3 = 3\n",
    "# x_4 = 1.0\n",
    "X = np.matrix([[0.5],\n",
    "               [0.7],\n",
    "               [3],\n",
    "               [1.0]])\n",
    "\n",
    "# bias\n",
    "b = 1\n",
    "\n",
    "# forward pass\n",
    "z = np.dot(W, X) + b\n",
    "print(z)\n",
    "\n",
    "# Activation function\n",
    "# a = activation_function(z)"
   ]
  },
  {
   "cell_type": "markdown",
   "metadata": {},
   "source": [
    "## Multilayer perceptron\n",
    "\n",
    "<img src=\"files/multi-layer-perceptron.png\" />"
   ]
  },
  {
   "cell_type": "code",
   "execution_count": 3,
   "metadata": {},
   "outputs": [
    {
     "name": "stdout",
     "output_type": "stream",
     "text": [
      "[[ 3.05]\n",
      " [ 1.55]\n",
      " [ 3.18]]\n"
     ]
    }
   ],
   "source": [
    "# MULTILAYER PERCEPTRON - MATRIX MULTIPLICATION EXAMPLE\n",
    "\n",
    "# weights\n",
    "# w_11 = 1.0\n",
    "# w_12 = 1.1\n",
    "# w_13 = 1.3\n",
    "# w_21 = 0.1\n",
    "# w_22 = 0.2\n",
    "# w_23 = 0.6\n",
    "# w_31 = 0.4\n",
    "# w_32 = 1.2\n",
    "# w_32 = 1.9\n",
    "W = np.matrix([[1.0, 1.1, 1.3], \n",
    "               [0.1, 0.2, 0.6],\n",
    "               [0.4, 1.2, 1.9]])\n",
    "\n",
    "# input data\n",
    "# x_1 = 0.5\n",
    "# x_2 = 0.7\n",
    "# x_3 = 0.6\n",
    "X = np.matrix([[0.5],\n",
    "               [0.7],\n",
    "               [0.6]])\n",
    "\n",
    "# biases\n",
    "b = np.matrix([[1.0],\n",
    "               [1.0],\n",
    "               [1.0]])\n",
    "\n",
    "\n",
    "# forward pass\n",
    "z = np.dot(W, X) + b\n",
    "print(z)\n",
    "\n",
    "# Activation function\n",
    "# a = activation_function(z)"
   ]
  },
  {
   "cell_type": "markdown",
   "metadata": {},
   "source": [
    "## Bias and weight initialization\n",
    "\n",
    "http://cs231n.github.io/neural-networks-2/#init"
   ]
  },
  {
   "cell_type": "code",
   "execution_count": 22,
   "metadata": {
    "collapsed": true
   },
   "outputs": [],
   "source": [
    "# The biases and weights for the network are initialized randomly, using a Gaussian distribution\n",
    "# with mean 0, and variance 1.\n",
    "def init_biases(layers, seed=None):\n",
    "    if seed:\n",
    "        np.random.seed(seed)\n",
    "\n",
    "    return [np.random.randn(y, 1) for y in layers[1:]]\n",
    "    \n",
    "def init_weights(layers, seed=None):\n",
    "    if seed:\n",
    "        np.random.seed(seed)\n",
    "\n",
    "    return [np.random.randn(y, x) for x, y in zip(layers[:-1], layers[1:])]\n",
    "\n",
    "# 3-layer neural network\n",
    "# input layer 10 neurons\n",
    "# hidden layer 15 neurons\n",
    "# output layer 7 neurons\n",
    "layers_tmp = [10, 15, 7]\n",
    "\n",
    "biases_tmp = init_biases(layers_tmp)\n",
    "weights_tmp = init_weights(layers_tmp)"
   ]
  },
  {
   "cell_type": "code",
   "execution_count": 23,
   "metadata": {},
   "outputs": [
    {
     "name": "stdout",
     "output_type": "stream",
     "text": [
      "15\n",
      "7\n"
     ]
    }
   ],
   "source": [
    "# BIASES in layers\n",
    "for b in biases_tmp:\n",
    "    print(len(b))"
   ]
  },
  {
   "cell_type": "code",
   "execution_count": 6,
   "metadata": {},
   "outputs": [
    {
     "name": "stdout",
     "output_type": "stream",
     "text": [
      "[array([[-0.14727391],\n",
      "       [-0.24249254],\n",
      "       [ 1.54740456],\n",
      "       [ 0.65896381],\n",
      "       [ 0.49915176],\n",
      "       [-0.4838609 ],\n",
      "       [ 0.16084526],\n",
      "       [ 0.48506375],\n",
      "       [ 1.30706116],\n",
      "       [-0.42454866],\n",
      "       [-0.47409203],\n",
      "       [ 0.88006121],\n",
      "       [ 0.58524452],\n",
      "       [-0.26288514],\n",
      "       [-0.05486092]]), array([[-0.27103603],\n",
      "       [ 0.12374247],\n",
      "       [ 0.9838301 ],\n",
      "       [-0.25924596],\n",
      "       [-1.11495316],\n",
      "       [ 0.14217857],\n",
      "       [ 0.20241766]])]\n"
     ]
    }
   ],
   "source": [
    "# BIAS VALUES\n",
    "print(biases_tmp)"
   ]
  },
  {
   "cell_type": "code",
   "execution_count": 7,
   "metadata": {},
   "outputs": [
    {
     "name": "stdout",
     "output_type": "stream",
     "text": [
      "(15, 10)\n",
      "(7, 15)\n"
     ]
    }
   ],
   "source": [
    "# WEIGHTS in layers\n",
    "for w in weights_tmp:\n",
    "    print(w.shape)"
   ]
  },
  {
   "cell_type": "code",
   "execution_count": 8,
   "metadata": {},
   "outputs": [
    {
     "name": "stdout",
     "output_type": "stream",
     "text": [
      "[array([[ 0.28848985, -0.43799074,  1.44354966, -0.64599914, -1.13571589,\n",
      "         0.53070699,  0.5881688 ,  1.89171166,  1.23327552,  0.63409868],\n",
      "       [ 0.76039976,  1.41641151,  0.36218215,  0.54783608, -0.99093645,\n",
      "        -0.51004908,  0.49448115, -2.29850521,  0.85294914,  0.14302127],\n",
      "       [-0.3986987 ,  1.2851707 ,  0.08118127,  0.24154487,  0.75708121,\n",
      "        -0.60757207, -0.89219721,  0.53786828,  0.90452902,  0.79224565],\n",
      "       [ 0.87468043,  1.99509404,  1.0610137 , -1.17225212,  0.5977375 ,\n",
      "        -1.21245883,  0.65704195, -0.426806  ,  1.24427677, -1.20907735],\n",
      "       [ 0.77011014,  0.62814859,  1.80740864,  0.27410844, -0.11167904,\n",
      "         0.55639214,  0.46029429, -1.53781234,  0.48296817, -0.76687495],\n",
      "       [ 2.48648986, -1.31249939, -0.67680826,  0.27521754,  0.62495629,\n",
      "        -1.65136033, -1.20818989, -1.06254427,  0.49695492,  1.20780476],\n",
      "       [-0.41324684, -0.21936744,  0.28100299,  0.24077535,  0.43358984,\n",
      "        -0.32483512, -1.56032454, -0.54788071,  0.31512282,  1.14919006],\n",
      "       [ 0.61303206,  0.10017912,  1.10133229,  1.04902299, -0.75955517,\n",
      "        -0.14581053,  0.83078501,  0.15886305,  1.29789584, -0.54186463],\n",
      "       [-1.87901908, -0.59162756, -1.94825353,  0.63427527, -0.54874132,\n",
      "        -0.77552468, -0.49373822,  0.49423356, -0.98868853,  1.43485903],\n",
      "       [ 1.65365637, -0.12584412, -0.55408367, -2.26268991, -0.89438454,\n",
      "        -1.38684239,  1.44724955, -0.16350481,  1.53636805,  1.15896152],\n",
      "       [ 0.54651835,  0.29565259, -0.2891672 ,  0.43287013,  1.71588201,\n",
      "        -0.83948479,  0.08875866,  0.80137264, -0.48409721, -0.38713442],\n",
      "       [-0.63121004,  0.45502191, -0.74766638, -0.10159508, -0.36064462,\n",
      "        -0.5383535 , -2.25758995, -0.95031191,  1.67261155, -0.30818979],\n",
      "       [-1.78261621,  0.90516524, -0.4076577 , -0.08174394,  1.18112062,\n",
      "        -1.86548097,  0.63265774,  1.71268352,  0.70000372,  1.72198416],\n",
      "       [ 1.33613271, -1.53008809, -0.15749399,  0.90325354,  0.70193701,\n",
      "        -0.01202613, -2.44446836, -0.55717614,  0.93555622,  0.49636535],\n",
      "       [-0.96296238,  1.01481836,  0.20516516, -0.25534654,  0.89957606,\n",
      "        -0.47240439, -0.33143275, -0.34867585,  0.45417653,  0.27338722]]), array([[-0.02122752,  1.04870131,  1.69737159, -0.07518164,  0.02303227,\n",
      "         0.37776783, -0.34375855,  1.65265611, -0.67922788, -1.02675992,\n",
      "         1.30789138,  0.15792484, -0.30762445, -0.52237565, -1.023097  ],\n",
      "       [ 0.06100143,  1.00642848,  0.5600185 ,  0.16231313, -0.96630356,\n",
      "         0.00671642,  1.28046518, -0.11049394,  0.70020385,  0.34293638,\n",
      "        -0.2199487 , -0.09175343,  0.16230087,  1.28330318, -0.31762769],\n",
      "       [ 1.16190414, -1.44991584, -2.44667453,  1.18652647, -0.35604586,\n",
      "        -0.93575151,  0.41371277,  0.96650823,  2.06632234, -0.19962242,\n",
      "         1.41384869,  0.10292824,  1.24118202, -0.61342004,  0.69148116],\n",
      "       [-1.05778276, -2.69206264,  0.50815222,  0.26673891,  1.05201619,\n",
      "         1.42098523,  0.41384053,  0.64988342, -0.53773624,  0.87076511,\n",
      "        -0.63585066,  0.38548247,  1.13318167,  0.20556422, -0.30496159],\n",
      "       [-0.24944425,  1.30343863, -1.43558672, -3.24034836, -0.81289123,\n",
      "         0.80102119,  0.91638896,  1.36638408,  0.39477584,  0.18313769,\n",
      "         0.52936255,  1.04211904,  0.01840855,  0.15471789, -0.9609729 ],\n",
      "       [ 0.31221983,  1.06516662, -0.15281143,  0.82842102, -1.97106202,\n",
      "        -1.67808735, -0.66135025,  0.31377567,  1.40643868,  1.14867593,\n",
      "        -0.16842144,  0.34360074, -1.1182216 ,  1.08802509,  0.16064535],\n",
      "       [-0.83680646, -0.31369646,  1.33786108, -1.24651352,  0.25063691,\n",
      "        -0.53492146, -0.03587072, -0.46595976, -1.52487331,  0.6919744 ,\n",
      "        -1.02633114, -1.06388165,  0.96383587,  0.15078841,  0.85337094]])]\n"
     ]
    }
   ],
   "source": [
    "# WEIGHTS\n",
    "print(weights_tmp)"
   ]
  },
  {
   "cell_type": "markdown",
   "metadata": {},
   "source": [
    "## Sigmoid activation function\n",
    "\n",
    "* Introduces non-linearity\n",
    "* Saturation problem\n",
    "\n",
    "<img src=\"files/sigmoid.png\" />\n",
    "\n",
    "Other types of activation functions http://cs231n.github.io/neural-networks-1/#actfun:\n",
    "* Tanh\n",
    "* ReLU\n",
    "* Leaky ReLU\n",
    "* ELU\n",
    "* Maxout"
   ]
  },
  {
   "cell_type": "code",
   "execution_count": 9,
   "metadata": {
    "collapsed": true
   },
   "outputs": [],
   "source": [
    "def sigmoid(z):\n",
    "    return 1.0/(1.0+np.exp(-z))"
   ]
  },
  {
   "cell_type": "code",
   "execution_count": 10,
   "metadata": {},
   "outputs": [
    {
     "data": {
      "text/plain": [
       "[<matplotlib.lines.Line2D at 0x7f2323d01a90>]"
      ]
     },
     "execution_count": 10,
     "metadata": {},
     "output_type": "execute_result"
    },
    {
     "data": {
      "image/png": "[encoded data removed]",
      "text/plain": [
       "<matplotlib.figure.Figure at 0x7f2325dd81d0>"
      ]
     },
     "metadata": {},
     "output_type": "display_data"
    }
   ],
   "source": [
    "# Sigmoid function plot\n",
    "x = np.linspace(-7, 7, 80)\n",
    "plt.plot(x, sigmoid(x))\n",
    "\n",
    "# center of sigmoid\n",
    "plt.plot([0,0], [0, 1], c='orange')\n",
    "plt.plot([-7,7], [0.5, 0.5], c='orange')"
   ]
  },
  {
   "cell_type": "markdown",
   "metadata": {},
   "source": [
    "## Forward pass"
   ]
  },
  {
   "cell_type": "code",
   "execution_count": 11,
   "metadata": {
    "collapsed": true
   },
   "outputs": [],
   "source": [
    "def feedforward(biases, weights, a):\n",
    "    for b, w in zip(biases, weights):\n",
    "        a = sigmoid(np.dot(w, a)+b)\n",
    "        \n",
    "    return np.argmax(a)"
   ]
  },
  {
   "cell_type": "markdown",
   "metadata": {},
   "source": [
    "## Backward pass\n",
    "\n",
    "* Derivative of sigmoid (http://www.ai.mit.edu/courses/6.892/lecture8-html/sld015.htm)"
   ]
  },
  {
   "cell_type": "code",
   "execution_count": 12,
   "metadata": {
    "collapsed": true
   },
   "outputs": [],
   "source": [
    "# Take a single training example, forward it through network, computes cost\n",
    "# and compute gradient of weights and biases for each neuron.\n",
    "def backprop(biases, weights, x, y):\n",
    "    # Derivate of sigmoid\n",
    "    def sigmoid_prime(z):\n",
    "        return sigmoid(z)*(1-sigmoid(z))\n",
    "    \n",
    "    # Cost function\n",
    "    def cost_derivative(output_activations, y):\n",
    "        return (output_activations-y)    \n",
    "    \n",
    "    # gradients of the cost function for each layer\n",
    "    nabla_b = zeros_like(biases)\n",
    "    nabla_w = zeros_like(weights)\n",
    "    \n",
    "    # FORWARD PASS\n",
    "    activation = x\n",
    "    activations = [x] # list to store all the activations, layer by layer\n",
    "    zs = [] # list to store all the z vectors, layer by layer\n",
    "    \n",
    "    for b, w in zip(biases, weights):\n",
    "        z = np.dot(w, activation)+b        \n",
    "        activation = sigmoid(z)\n",
    "        \n",
    "        # store all previous z and a vectors\n",
    "        zs.append(z)\n",
    "        activations.append(activation)\n",
    "        \n",
    "    # BACKWARD PASS\n",
    "    # the last layer\n",
    "    delta = cost_derivative(activations[-1], y) * sigmoid_prime(zs[-1])\n",
    "    nabla_b[-1] = delta\n",
    "    nabla_w[-1] = np.dot(delta, activations[-2].transpose())\n",
    "    \n",
    "    # previous layers\n",
    "    # going backwards layer by layer\n",
    "    num_layers = len(weights)+1\n",
    "    for l in xrange(2, num_layers):\n",
    "        z = zs[-l]\n",
    "        sp = sigmoid_prime(z)\n",
    "        delta = np.dot(weights[-l+1].transpose(), delta) * sp\n",
    "        \n",
    "        nabla_b[-l] = delta\n",
    "        nabla_w[-l] = np.dot(delta, activations[-l-1].transpose())\n",
    "        \n",
    "    return (nabla_b, nabla_w)"
   ]
  },
  {
   "cell_type": "markdown",
   "metadata": {},
   "source": [
    "## Minibatch\n",
    "\n",
    "Minibatch is randomly selected training inputs of fixed size.\n",
    "\n",
    "## Stochastic Gradient Descent (aka SGD)\n",
    "* Stochastic\n",
    "* Gradient\n",
    "* Descent\n",
    "\n",
    "<img src=\"files/gradient-descent.png\" />\n",
    "\n",
    "<img src=\"files/sgd-update.png\" />\n",
    "\n",
    "**Eta** hyperparameter represent size of step during gradient descent."
   ]
  },
  {
   "cell_type": "code",
   "execution_count": 13,
   "metadata": {
    "collapsed": true
   },
   "outputs": [],
   "source": [
    "# Update weights.\n",
    "def update_mini_batch(biases, weights, mini_batch, eta):\n",
    "    def update(v, nv, eta, mini_batch_size):\n",
    "        return v-(eta/mini_batch_size)*nv\n",
    "    \n",
    "    def cumulate(nabla_v, delta_nabla_v):\n",
    "        return [nv+dnv for nv, dnv in zip(nabla_v, delta_nabla_v)]\n",
    "        \n",
    "    nabla_b = zeros_like(biases)\n",
    "    nabla_w = zeros_like(weights)\n",
    "    \n",
    "    # Collect weights and bias gradients for each minibatch and sum them\n",
    "    for x, y in mini_batch:\n",
    "        delta_nabla_b, delta_nabla_w = backprop(biases, weights, x, y)\n",
    "        nabla_b = cumulate(nabla_b, delta_nabla_b)\n",
    "        nabla_w = cumulate(nabla_w, delta_nabla_w)\n",
    "    \n",
    "    mini_batch_size = len(mini_batch)\n",
    "    \n",
    "    weights = [update(w, nw, eta, mini_batch_size)\n",
    "               for w, nw in zip(weights, nabla_w)]\n",
    "    \n",
    "    biases = [update(b, nb, eta, mini_batch_size)\n",
    "              for b, nb in zip(biases, nabla_b)]\n",
    "    \n",
    "    return biases, weights"
   ]
  },
  {
   "cell_type": "markdown",
   "metadata": {},
   "source": [
    "## Training\n",
    "* **Epoch** full pass through the training set. ([reference](http://ufldl.stanford.edu/tutorial/supervised/OptimizationStochasticGradientDescent/))"
   ]
  },
  {
   "cell_type": "code",
   "execution_count": 27,
   "metadata": {
    "collapsed": true
   },
   "outputs": [],
   "source": [
    "def SGD(biases, weights, training_data, epochs, mini_batch_size, eta, test_data=None):\n",
    "    def evaluate(biases, weights, data, training_data_evalution=False):\n",
    "        if training_data_evalution:\n",
    "            test_results = [(feedforward(biases, weights, x), np.argmax(y)) for (x, y) in data]\n",
    "        else:\n",
    "            test_results = [(feedforward(biases, weights, x), y) for (x, y) in data]\n",
    "\n",
    "        return sum(int(x == y) for (x, y) in test_results)\n",
    "    \n",
    "    if test_data:\n",
    "        n_test = len(test_data)\n",
    "\n",
    "    n = len(training_data)\n",
    "    test_acc_lst = []\n",
    "    train_acc_lst = []\n",
    "    \n",
    "    for j in xrange(epochs):\n",
    "        random.shuffle(training_data)\n",
    "        \n",
    "        mini_batches = [training_data[k:k+mini_batch_size] for k in xrange(0, n, mini_batch_size)]\n",
    "        \n",
    "        for mini_batch in mini_batches:\n",
    "            biases, weights = update_mini_batch(biases, weights, mini_batch, eta)\n",
    "            \n",
    "        if test_data:\n",
    "            test_acc = evaluate(biases, weights, test_data)\n",
    "            test_acc_lst.append(test_acc/n_test)\n",
    "            \n",
    "            train_acc = evaluate(biases, weights, training_data, training_data_evalution=True)\n",
    "            train_acc_lst.append(train_acc/n)\n",
    "            \n",
    "            print(\"Epoch {0}: {1} / {2}\".format(j, test_acc, n_test))\n",
    "        else:\n",
    "            print(\"Epoch {0} complete\".format(j))\n",
    "            \n",
    "    return biases, weights, train_acc_lst, test_acc_lst"
   ]
  },
  {
   "cell_type": "markdown",
   "metadata": {},
   "source": [
    "## MNIST dataset\n",
    "* http://yann.lecun.com/exdb/mnist/\n",
    "* 28 by 28 pixels\n",
    "* grayscale images"
   ]
  },
  {
   "cell_type": "code",
   "execution_count": 15,
   "metadata": {},
   "outputs": [
    {
     "name": "stdout",
     "output_type": "stream",
     "text": [
      "number of training examples: 50000\n",
      "number of validation examples: 10000\n",
      "number of test examples: 10000\n"
     ]
    }
   ],
   "source": [
    "import mnist_loader\n",
    "training_data, validation_data, test_data = mnist_loader.load_data_wrapper()\n",
    "\n",
    "print(\"number of training examples: {0:1d}\".format(len(training_data)))\n",
    "print(\"number of validation examples: {0:1d}\".format(len(validation_data)))\n",
    "print(\"number of test examples: {0:1d}\".format(len(test_data)))"
   ]
  },
  {
   "cell_type": "markdown",
   "metadata": {},
   "source": [
    "## MNIST Training data"
   ]
  },
  {
   "cell_type": "code",
   "execution_count": 16,
   "metadata": {},
   "outputs": [
    {
     "name": "stdout",
     "output_type": "stream",
     "text": [
      "9\n"
     ]
    },
    {
     "data": {
      "image/png": "[encoded data removed]",
      "text/plain": [
       "<matplotlib.figure.Figure at 0x7f2323dad110>"
      ]
     },
     "metadata": {},
     "output_type": "display_data"
    }
   ],
   "source": [
    "def get_sample(data, idx):\n",
    "    X_rand = data[idx][0]\n",
    "    y_rand = data[idx][1]\n",
    "    \n",
    "    return X_rand, y_rand\n",
    "\n",
    "def display_digit(data, idx=None):\n",
    "    \"\"\" If idx parameter is not specified display random data sample. \"\"\"\n",
    "    if idx == None:\n",
    "        idx = random.randint(0, len(data)-1)\n",
    "    \n",
    "    X_tmp, y_tmp = get_sample(data, idx)\n",
    "\n",
    "    img = X_tmp.reshape((28, 28))\n",
    "    plt.figure()\n",
    "    plt.imshow(img, cmap='gray')\n",
    "    \n",
    "    if isinstance(y_tmp, int):\n",
    "        print(y_tmp)\n",
    "    else:\n",
    "        print(np.argmax(y_tmp))\n",
    "    \n",
    "display_digit(training_data)"
   ]
  },
  {
   "cell_type": "markdown",
   "metadata": {},
   "source": [
    "## MNIST One-hot encoding"
   ]
  },
  {
   "cell_type": "code",
   "execution_count": 17,
   "metadata": {},
   "outputs": [
    {
     "name": "stdout",
     "output_type": "stream",
     "text": [
      "[[ 0.]\n",
      " [ 0.]\n",
      " [ 0.]\n",
      " [ 1.]\n",
      " [ 0.]\n",
      " [ 0.]\n",
      " [ 0.]\n",
      " [ 0.]\n",
      " [ 0.]\n",
      " [ 0.]]\n",
      "3\n"
     ]
    },
    {
     "data": {
      "image/png": "[encoded data removed]",
      "text/plain": [
       "<matplotlib.figure.Figure at 0x7f2323d3d390>"
      ]
     },
     "metadata": {},
     "output_type": "display_data"
    }
   ],
   "source": [
    "def display_random_one_hot_encoding(data):\n",
    "    rand_idx = random.randint(0, len(data)-1)    \n",
    "    _, y_rand = get_sample(data, rand_idx)\n",
    "    \n",
    "    print(y_rand)\n",
    "    plt.figure()\n",
    "    plt.imshow(y_rand.T, cmap='gray')\n",
    "    print(np.argmax(y_rand))\n",
    "    \n",
    "display_random_one_hot_encoding(training_data)"
   ]
  },
  {
   "cell_type": "markdown",
   "metadata": {},
   "source": [
    "## MNIST Training"
   ]
  },
  {
   "cell_type": "code",
   "execution_count": 35,
   "metadata": {},
   "outputs": [
    {
     "name": "stdout",
     "output_type": "stream",
     "text": [
      "Epoch 0: 9072 / 10000\n",
      "Epoch 1: 9187 / 10000\n",
      "Epoch 2: 9326 / 10000\n",
      "Epoch 3: 9373 / 10000\n",
      "Epoch 4: 9401 / 10000\n"
     ]
    }
   ],
   "source": [
    "# The first layer containing 784 neurons (784 pixels as input), \n",
    "# the second layer 30 neurons (arbitrarily chosen),\n",
    "# and the output layer has 10 neurons (one-hot encoding for 10 different values).\n",
    "layers = [784, 30, 10]\n",
    "\n",
    "seed = 5 # to get always the same results\n",
    "\n",
    "# randomly initialize weights and biases\n",
    "biases = init_biases(layers, seed=seed)\n",
    "weights = init_weights(layers, seed=seed)\n",
    "\n",
    "# Training hyperparameters\n",
    "epochs=5\n",
    "mini_batch_size=10\n",
    "eta=3.0\n",
    "\n",
    "# Train\n",
    "biases_final, weights_final, train_acc, test_acc = SGD(biases, weights, training_data, epochs, mini_batch_size, eta, test_data=validation_data)\n",
    "# biases_final, weights_final, _, _test_acc = SGD(biases, weights, training_data, epochs, mini_batch_size, eta)"
   ]
  },
  {
   "cell_type": "code",
   "execution_count": 32,
   "metadata": {},
   "outputs": [
    {
     "data": {
      "text/plain": [
       "<matplotlib.text.Text at 0x7f2323d2f1d0>"
      ]
     },
     "execution_count": 32,
     "metadata": {},
     "output_type": "execute_result"
    },
    {
     "data": {
      "image/png": "[encoded data removed]",
      "text/plain": [
       "<matplotlib.figure.Figure at 0x7f2322cf89d0>"
      ]
     },
     "metadata": {},
     "output_type": "display_data"
    }
   ],
   "source": [
    "# Plot training curves\n",
    "plt.plot(range(len(test_acc)), test_acc, c=\"r\", label='Test accuracy')\n",
    "plt.plot(range(len(train_acc)), train_acc, c=\"b\", label='Train accuracy')\n",
    "plt.legend()\n",
    "plt.ylabel(\"accuracy\")\n",
    "plt.xlabel(\"epochs\")"
   ]
  },
  {
   "cell_type": "markdown",
   "metadata": {},
   "source": [
    "## MNIST Evaluation on test dataset"
   ]
  },
  {
   "cell_type": "code",
   "execution_count": 33,
   "metadata": {},
   "outputs": [
    {
     "name": "stdout",
     "output_type": "stream",
     "text": [
      "             precision    recall  f1-score   support\n",
      "\n",
      "          0       0.95      0.99      0.97       980\n",
      "          1       0.98      0.97      0.98      1135\n",
      "          2       0.95      0.91      0.93      1032\n",
      "          3       0.95      0.91      0.93      1010\n",
      "          4       0.94      0.95      0.94       982\n",
      "          5       0.91      0.93      0.92       892\n",
      "          6       0.95      0.96      0.95       958\n",
      "          7       0.94      0.95      0.94      1028\n",
      "          8       0.91      0.93      0.92       974\n",
      "          9       0.93      0.92      0.92      1009\n",
      "\n",
      "avg / total       0.94      0.94      0.94     10000\n",
      "\n"
     ]
    },
    {
     "data": {
      "image/png": "[encoded data removed]",
      "text/plain": [
       "<matplotlib.figure.Figure at 0x7f2353a99b90>"
      ]
     },
     "metadata": {},
     "output_type": "display_data"
    }
   ],
   "source": [
    "from sklearn.metrics import confusion_matrix\n",
    "from sklearn.metrics import classification_report\n",
    "\n",
    "y_pred = []\n",
    "y_true = []\n",
    "\n",
    "for test_idx in range(len(test_data)):\n",
    "    X_test = test_data[test_idx][0]\n",
    "    y_test = test_data[test_idx][1]\n",
    "    \n",
    "    y_true.append(y_test)\n",
    "    y_pred.append(feedforward(biases_final, weights_final, X_test))\n",
    "\n",
    "# Confusion matrix\n",
    "plt.imshow(confusion_matrix(y_true, y_pred), cmap=\"jet\")\n",
    "\n",
    "# Precision, Recall, F1-score, Support\n",
    "print(classification_report(y_true, y_pred))"
   ]
  },
  {
   "cell_type": "markdown",
   "metadata": {},
   "source": [
    "## Keras"
   ]
  }
 ],
 "metadata": {
  "kernelspec": {
   "display_name": "Python 2",
   "language": "python",
   "name": "python2"
  },
  "language_info": {
   "codemirror_mode": {
    "name": "ipython",
    "version": 2
   },
   "file_extension": ".py",
   "mimetype": "text/x-python",
   "name": "python",
   "nbconvert_exporter": "python",
   "pygments_lexer": "ipython2",
   "version": "2.7.13"
  }
 },
 "nbformat": 4,
 "nbformat_minor": 2
}
