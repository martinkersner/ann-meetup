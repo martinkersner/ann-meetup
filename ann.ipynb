{
 "cells": [
  {
   "cell_type": "markdown",
   "metadata": {},
   "source": [
    "# Artificial Neural Networks\n",
    "\n",
    "Martin Kersner\n",
    "\n",
    "Inspired by http://neuralnetworksanddeeplearning.com/ and https://github.com/mnielsen/neural-networks-and-deep-learning/blob/master/src/network.py."
   ]
  },
  {
   "cell_type": "markdown",
   "metadata": {},
   "source": [
    "* stochastic gradient descent learning\n",
    "* backpropagation\n",
    "* forward pass\n",
    "* backward pass"
   ]
  },
  {
   "cell_type": "markdown",
   "metadata": {},
   "source": [
    "TODO Perceptron model explanation"
   ]
  },
  {
   "cell_type": "code",
   "execution_count": 1,
   "metadata": {
    "collapsed": true
   },
   "outputs": [],
   "source": [
    "from __future__ import division\n",
    "import random\n",
    "import numpy as np\n",
    "from utils import *\n",
    "import matplotlib.pyplot as plt\n",
    "\n",
    "%matplotlib inline"
   ]
  },
  {
   "cell_type": "markdown",
   "metadata": {},
   "source": [
    "TODO Image of network"
   ]
  },
  {
   "cell_type": "code",
   "execution_count": 2,
   "metadata": {
    "collapsed": true
   },
   "outputs": [],
   "source": [
    "# TODO MATRIX MULTIPLICATION EXAMPLE"
   ]
  },
  {
   "cell_type": "code",
   "execution_count": 3,
   "metadata": {
    "collapsed": true
   },
   "outputs": [],
   "source": [
    "# DEFINE AND INITIALIZE\n",
    "\n",
    "# The first layer containing 2 neurons, the second layer 3 neurons, and the third layer 1 neuron.  \n",
    "layers = [784, 30, 10]\n",
    "\n",
    "# Altogether 3 layers.\n",
    "num_layers = len(layers)\n",
    "\n",
    "# The biases and weights for the network are initialized randomly, using a Gaussian distribution\n",
    "# with mean 0, and variance 1. The first layer is assumed to be an input layer, and by convention we\n",
    "# won't set any biases for those neurons.\n",
    "biases  = [np.random.randn(y, 1) for y in layers[1:]]\n",
    "weights = [np.random.randn(y, x) for x, y in zip(layers[:-1], layers[1:])]"
   ]
  },
  {
   "cell_type": "code",
   "execution_count": 4,
   "metadata": {},
   "outputs": [
    {
     "name": "stdout",
     "output_type": "stream",
     "text": [
      "30\n",
      "10\n"
     ]
    }
   ],
   "source": [
    "# BIASES in layers\n",
    "for b in biases:\n",
    "    print(len(b))"
   ]
  },
  {
   "cell_type": "code",
   "execution_count": 5,
   "metadata": {},
   "outputs": [
    {
     "name": "stdout",
     "output_type": "stream",
     "text": [
      "[array([[-0.57638215],\n",
      "       [ 0.31086646],\n",
      "       [-0.86292257],\n",
      "       [-0.23755443],\n",
      "       [-1.23429457],\n",
      "       [-0.38857867],\n",
      "       [-2.33070083],\n",
      "       [-0.4759963 ],\n",
      "       [-1.34614802],\n",
      "       [-0.44100436],\n",
      "       [ 0.55879719],\n",
      "       [-1.9124004 ],\n",
      "       [ 1.56727543],\n",
      "       [ 1.06954287],\n",
      "       [ 0.75017501],\n",
      "       [-0.30495949],\n",
      "       [ 1.48441244],\n",
      "       [ 0.79802304],\n",
      "       [ 2.01701267],\n",
      "       [-0.58086864],\n",
      "       [-0.14563295],\n",
      "       [-0.78379384],\n",
      "       [ 0.36530474],\n",
      "       [-0.54614387],\n",
      "       [ 1.24306034],\n",
      "       [-0.1819356 ],\n",
      "       [-1.0019802 ],\n",
      "       [-1.23241118],\n",
      "       [ 0.79359284],\n",
      "       [ 0.52480352]]), array([[-0.65995859],\n",
      "       [-1.11134198],\n",
      "       [ 0.23953856],\n",
      "       [-0.84953094],\n",
      "       [-0.15681935],\n",
      "       [ 0.4928564 ],\n",
      "       [ 0.30387174],\n",
      "       [ 0.13503362],\n",
      "       [ 0.75441775],\n",
      "       [ 0.23883715]])]\n"
     ]
    }
   ],
   "source": [
    "# BIAS VALUES\n",
    "print(biases)"
   ]
  },
  {
   "cell_type": "code",
   "execution_count": 6,
   "metadata": {},
   "outputs": [
    {
     "name": "stdout",
     "output_type": "stream",
     "text": [
      "(30, 784)\n",
      "(10, 30)\n"
     ]
    }
   ],
   "source": [
    "# WEIGHTS in layers\n",
    "for w in weights:\n",
    "    print(w.shape)"
   ]
  },
  {
   "cell_type": "code",
   "execution_count": 7,
   "metadata": {},
   "outputs": [
    {
     "name": "stdout",
     "output_type": "stream",
     "text": [
      "[array([[-0.70873339,  0.79972877, -0.277934  , ..., -1.02703309,\n",
      "         1.40570815, -1.38229551],\n",
      "       [ 0.71202082, -0.80546574, -1.34864041, ...,  0.80121089,\n",
      "         0.33570409, -1.24426723],\n",
      "       [-1.30212011,  0.65461373, -0.40289739, ..., -0.24427389,\n",
      "        -1.36219906, -0.44610559],\n",
      "       ..., \n",
      "       [ 0.70695862, -0.04081286, -1.07950297, ..., -0.49066113,\n",
      "        -0.09257511,  0.60203764],\n",
      "       [-1.65822583, -0.3655542 , -0.24079386, ..., -1.42881582,\n",
      "         0.95416513, -0.47482783],\n",
      "       [-0.69009247,  0.36031847, -0.19381884, ..., -2.48057116,\n",
      "        -0.51639008, -0.09768601]]), array([[-1.01839228,  0.7152047 , -0.62651818,  0.88802729, -0.79297578,\n",
      "        -0.84268128,  0.27068069, -1.16187978, -0.02055262, -0.95361283,\n",
      "        -0.01844792, -1.54400412, -0.81982477, -0.06944194, -0.55226338,\n",
      "         0.28897439, -1.07060299, -1.55626386, -2.31077166, -0.6576706 ,\n",
      "         1.2958493 ,  0.94912291,  0.1051055 ,  1.76765985, -1.69589888,\n",
      "        -0.49303562, -0.56609281,  1.05602801, -0.97713354,  0.26039225],\n",
      "       [ 1.22437397,  0.12014188,  1.73616131,  0.38489828, -0.62683396,\n",
      "        -0.87754284, -0.21486642, -0.41537744,  1.0593515 , -0.9872585 ,\n",
      "        -0.36600153,  1.2971714 ,  1.08409796, -0.05485863,  0.63856598,\n",
      "        -0.26524904, -0.51580282, -0.65678033,  0.49545825,  0.28614863,\n",
      "         0.06613512,  1.05748208, -0.20581232, -1.24077123,  0.20800078,\n",
      "        -0.01120148,  1.67694112, -1.19044022, -1.01262085,  1.45455723],\n",
      "       [-0.11127648,  1.42676605, -0.21432244, -0.89442983, -0.33921931,\n",
      "        -1.82231121, -1.97440804, -0.12239345, -0.05735517,  1.37075646,\n",
      "         2.30548062,  2.16537712,  1.12674897, -0.14580782,  0.13233762,\n",
      "        -0.95255648, -1.89063236, -1.51635369,  1.05767149, -0.60678548,\n",
      "         0.30877576,  0.78920966, -1.76359283, -1.07170147, -0.63754413,\n",
      "        -0.67773844,  1.18202066,  0.14692143,  0.8276637 ,  0.55756208],\n",
      "       [-0.34520679,  0.85617078, -0.50461885,  2.41880101, -0.46267732,\n",
      "        -2.27147628, -1.56960094,  0.01576231,  0.89654899,  0.31613162,\n",
      "        -0.18579936,  0.98304587,  0.04288558, -0.32631657,  0.4523271 ,\n",
      "        -0.06545304,  0.96484344,  0.01522604,  0.58148965,  0.87686907,\n",
      "         0.96886722,  0.43658806,  0.79760862, -0.05475166,  0.54049352,\n",
      "        -2.44008164, -0.0443488 ,  0.44132252,  0.5461676 , -1.54572888],\n",
      "       [ 1.01431857,  1.43446356, -1.2491311 , -1.53238593, -2.387819  ,\n",
      "         0.13475287,  1.24219677,  0.82343716, -1.14315766,  0.4314465 ,\n",
      "        -1.6929591 ,  1.39698383,  0.20263222, -0.56739064, -0.48269983,\n",
      "        -1.47703957,  1.62015602, -0.09040683, -0.16457188,  0.24115214,\n",
      "         0.33568037,  0.6457357 ,  0.80294345, -0.98568686,  0.28356458,\n",
      "        -2.57115028,  1.35738298,  0.74386987, -0.93990538, -0.45947039],\n",
      "       [-0.88727505,  0.79227129, -1.55661894, -1.72004903,  0.72832177,\n",
      "        -1.13367744, -1.01476669,  0.38371491, -0.09217743,  0.2604072 ,\n",
      "        -0.08601535, -0.41064789,  0.08930257,  1.13028764,  0.84824305,\n",
      "        -0.48951234,  2.34677508, -0.99965062,  1.07960311, -0.13630904,\n",
      "         0.26557043, -0.33247755, -1.51913325,  0.85091326, -0.32374012,\n",
      "         0.89735857,  1.03900343, -0.51404833,  0.39399016, -1.58597678],\n",
      "       [-2.16594308,  1.3957464 ,  1.54303303,  0.0068837 ,  1.2278899 ,\n",
      "         0.52617483,  1.72883476,  0.68503568, -0.08428978, -1.06615809,\n",
      "        -0.5498909 ,  1.10367024,  0.8673785 , -0.57617106,  1.00082688,\n",
      "         0.69053418,  1.31639363,  1.3366621 ,  1.72819963, -0.13986691,\n",
      "        -0.50739226,  0.86746522, -1.22921692,  1.28445353,  0.09305262,\n",
      "         0.69969857, -0.82927225,  1.65044645, -0.62593586,  0.06171538],\n",
      "       [-1.01406029, -0.51691923,  0.7895713 , -0.12652847,  0.92757717,\n",
      "         0.75086036, -1.28487342,  1.01525767,  0.72400865, -1.70787286,\n",
      "         0.14729332, -0.78180602,  1.07463961, -0.11160348,  1.32951805,\n",
      "        -0.57371173,  0.84489243,  0.58079489, -0.23115308, -0.1356044 ,\n",
      "         1.29710457,  1.76188144, -1.24706763, -0.31983889, -1.17019583,\n",
      "         1.12962207,  0.87903409, -0.6955    , -0.94859352, -0.52451409],\n",
      "       [-0.88909138, -0.20283709, -0.23171481,  0.06998127, -0.09770565,\n",
      "         1.03705023, -0.7786611 ,  0.18507025, -0.18487953,  0.29324275,\n",
      "         0.99699369,  1.29476368, -0.75604918, -0.95272504, -0.06832258,\n",
      "         0.03515586, -0.22593556, -0.2839738 ,  1.28353185, -2.53088395,\n",
      "        -0.32361173,  0.27302962,  1.30919869,  0.92414554, -1.82026839,\n",
      "        -0.58852566,  0.26968684,  1.1204611 ,  0.7355965 ,  1.63135612],\n",
      "       [-0.48485175,  0.64504087, -0.49533432, -1.86396674, -0.10240783,\n",
      "         0.57675888, -0.23239527,  1.66296979, -1.32036428, -0.53251212,\n",
      "         1.33219437, -0.08386391, -0.05313039, -0.01528083,  1.35701351,\n",
      "        -2.54545918,  0.30120586,  1.25606635,  0.62928453, -1.90133041,\n",
      "         0.34174251, -2.19285444, -0.27134139, -0.54846145, -0.74777875,\n",
      "         0.03855313, -1.22227527,  2.06904411, -0.70443254,  0.87827886]])]\n"
     ]
    }
   ],
   "source": [
    "# WEIGHTS\n",
    "print(weights)"
   ]
  },
  {
   "cell_type": "markdown",
   "metadata": {},
   "source": [
    "## Sigmoid activation function\n",
    "* introduces non-linearity\n",
    "\n",
    "<img src=\"files/sigmoid.png\">"
   ]
  },
  {
   "cell_type": "code",
   "execution_count": 8,
   "metadata": {
    "collapsed": true
   },
   "outputs": [],
   "source": [
    "def sigmoid(z):\n",
    "    return 1.0/(1.0+np.exp(-z))"
   ]
  },
  {
   "cell_type": "code",
   "execution_count": 9,
   "metadata": {
    "collapsed": true
   },
   "outputs": [],
   "source": [
    "def feedforward(biases, weights, a):\n",
    "    for b, w in zip(biases, weights):\n",
    "        a = sigmoid(np.dot(w, a)+b)\n",
    "    return a"
   ]
  },
  {
   "cell_type": "markdown",
   "metadata": {},
   "source": [
    "### Backpropagation\n",
    "\n",
    "### Derivation of sigmoid"
   ]
  },
  {
   "cell_type": "code",
   "execution_count": 10,
   "metadata": {
    "collapsed": true
   },
   "outputs": [],
   "source": [
    "def sigmoid_prime(z):\n",
    "    return sigmoid(z)*(1-sigmoid(z))\n",
    "\n",
    "def cost_derivative(output_activations, y):\n",
    "    \"\"\"Return the vector of partial derivatives \\partial C_x /\n",
    "    \\partial a for the output activations.\"\"\"\n",
    "    return (output_activations-y)\n",
    "        \n",
    "def backprop(biases, weights, x, y):\n",
    "    \"\"\"Return a tuple ``(nabla_b, nabla_w)`` representing the\n",
    "    gradient for the cost function C_x.  ``nabla_b`` and\n",
    "    ``nabla_w`` are layer-by-layer lists of numpy arrays, similar\n",
    "    to ``self.biases`` and ``self.weights``.\"\"\"\n",
    "    \n",
    "    nabla_b = zeros_like(biases)\n",
    "    nabla_w = zeros_like(weights)\n",
    "    \n",
    "    # feedforward\n",
    "    activation = x\n",
    "    activations = [x] # list to store all the activations, layer by layer\n",
    "    zs = [] # list to store all the z vectors, layer by layer\n",
    "    \n",
    "    for b, w in zip(biases, weights):\n",
    "        z = np.dot(w, activation)+b\n",
    "        zs.append(z)\n",
    "        activation = sigmoid(z)\n",
    "        activations.append(activation)\n",
    "        \n",
    "    # backward pass\n",
    "    delta = cost_derivative(activations[-1], y) * sigmoid_prime(zs[-1])\n",
    "    nabla_b[-1] = delta\n",
    "    nabla_w[-1] = np.dot(delta, activations[-2].transpose())\n",
    "    # Note that the variable l in the loop below is used a little\n",
    "    # differently to the notation in Chapter 2 of the book.  Here,\n",
    "    # l = 1 means the last layer of neurons, l = 2 is the\n",
    "    # second-last layer, and so on.  It's a renumbering of the\n",
    "    # scheme in the book, used here to take advantage of the fact\n",
    "    # that Python can use negative indices in lists.\n",
    "    num_layers = len(weights)+1\n",
    "    for l in xrange(2, num_layers):\n",
    "        z = zs[-l]\n",
    "        sp = sigmoid_prime(z)\n",
    "        delta = np.dot(weights[-l+1].transpose(), delta) * sp\n",
    "        nabla_b[-l] = delta\n",
    "        nabla_w[-l] = np.dot(delta, activations[-l-1].transpose())\n",
    "    return (nabla_b, nabla_w)"
   ]
  },
  {
   "cell_type": "markdown",
   "metadata": {},
   "source": [
    "## Minibatch\n",
    "* TODO minibatch explanation\n",
    "* TOOD update update explanation\n",
    "* TODO eta explanation"
   ]
  },
  {
   "cell_type": "code",
   "execution_count": 11,
   "metadata": {
    "collapsed": true
   },
   "outputs": [],
   "source": [
    "# eta - learning rate\n",
    "def update_mini_batch(biases, weights, mini_batch, eta):\n",
    "    def update(v, nv, eta, mini_batch_size):\n",
    "        return v-(eta/mini_batch_size)*nv\n",
    "    \n",
    "    def cumulate(nabla_v, delta_nabla_v):\n",
    "        return [nv+dnv for nv, dnv in zip(nabla_v, delta_nabla_v)]\n",
    "        \n",
    "    nabla_b = zeros_like(biases)\n",
    "    nabla_w = zeros_like(weights)\n",
    "    \n",
    "    # !! TODO explanation\n",
    "    for x, y in mini_batch:\n",
    "        delta_nabla_b, delta_nabla_w = backprop(biases, weights, x, y)\n",
    "        nabla_b = cumulate(nabla_b, delta_nabla_b)\n",
    "        nabla_w = cumulate(nabla_w, delta_nabla_w)\n",
    "    \n",
    "    mini_batch_size = len(mini_batch)\n",
    "    \n",
    "    weights = [update(w, nw, eta, mini_batch_size)\n",
    "               for w, nw in zip(weights, nabla_w)]\n",
    "    \n",
    "    biases = [update(b, nb, eta, mini_batch_size)\n",
    "              for b, nb in zip(biases, nabla_b)]\n",
    "    \n",
    "    return biases, weights"
   ]
  },
  {
   "cell_type": "markdown",
   "metadata": {},
   "source": [
    "* Stochastic gradient descent\n",
    "* Epoch"
   ]
  },
  {
   "cell_type": "code",
   "execution_count": 20,
   "metadata": {
    "collapsed": true
   },
   "outputs": [],
   "source": [
    "def SGD(biases, weights, training_data, epochs, mini_batch_size, eta, test_data=None):\n",
    "    \"\"\"Train the neural network using mini-batch stochastic\n",
    "    gradient descent.  The ``training_data`` is a list of tuples\n",
    "    ``(x, y)`` representing the training inputs and the desired\n",
    "    outputs.  The other non-optional parameters are\n",
    "    self-explanatory.  If ``test_data`` is provided then the\n",
    "    network will be evaluated against the test data after each\n",
    "    epoch, and partial progress printed out.  This is useful for\n",
    "    tracking progress, but slows things down substantially.\"\"\"\n",
    "    \n",
    "    def evaluate(biases, weights, data, training_data_evalution=False):\n",
    "        if training_data_evalution:\n",
    "            test_results = [(np.argmax(feedforward(biases, weights, x)), np.argmax(y)) for (x, y) in data]\n",
    "        else:\n",
    "            test_results = [(np.argmax(feedforward(biases, weights, x)), y) for (x, y) in data]\n",
    "\n",
    "        return sum(int(x == y) for (x, y) in test_results)\n",
    "    \n",
    "    if test_data:\n",
    "        n_test = len(test_data)\n",
    "\n",
    "    n = len(training_data)\n",
    "    test_acc_lst = []\n",
    "    train_acc_lst = []\n",
    "    \n",
    "    for j in xrange(epochs):\n",
    "        random.shuffle(training_data)\n",
    "        \n",
    "        mini_batches = [training_data[k:k+mini_batch_size] for k in xrange(0, n, mini_batch_size)]\n",
    "        \n",
    "        for mini_batch in mini_batches:\n",
    "            biases, weights = update_mini_batch(biases, weights, mini_batch, eta)\n",
    "            \n",
    "        if test_data:\n",
    "            test_acc = evaluate(biases, weights, test_data)\n",
    "            test_acc_lst.append(test_acc/n_test)\n",
    "            \n",
    "            train_acc = evaluate(biases, weights, training_data, training_data_evalution=True)\n",
    "            train_acc_lst.append(train_acc/n)\n",
    "            \n",
    "            print(\"Epoch {0}: {1} / {2}\".format(j, test_acc, n_test))\n",
    "        else:\n",
    "            print(\"Epoch {0} complete\".format(j))\n",
    "            \n",
    "    return biases, weights, train_acc_lst, test_acc_lst"
   ]
  },
  {
   "cell_type": "code",
   "execution_count": 13,
   "metadata": {
    "collapsed": true
   },
   "outputs": [],
   "source": [
    "# def evaluate(biases, weights, test_data):\n",
    "#     \"\"\"Return the number of test inputs for which the neural\n",
    "#     network outputs the correct result. Note that the neural\n",
    "#     network's output is assumed to be the index of whichever\n",
    "#     neuron in the final layer has the highest activation.\"\"\"\n",
    "    \n",
    "#     test_results = [(np.argmax(feedforward(biases, weights, x)), y) for (x, y) in test_data]\n",
    "#     return sum(int(x == y) for (x, y) in test_results)"
   ]
  },
  {
   "cell_type": "markdown",
   "metadata": {},
   "source": [
    "## MNIST dataset\n",
    "* http://yann.lecun.com/exdb/mnist/\n",
    "* 28 by 28 pixels\n",
    "* grayscale images"
   ]
  },
  {
   "cell_type": "code",
   "execution_count": 14,
   "metadata": {
    "collapsed": true
   },
   "outputs": [],
   "source": [
    "import mnist_loader\n",
    "training_data, validation_data, test_data = mnist_loader.load_data_wrapper()"
   ]
  },
  {
   "cell_type": "code",
   "execution_count": 15,
   "metadata": {},
   "outputs": [
    {
     "name": "stdout",
     "output_type": "stream",
     "text": [
      "6\n"
     ]
    },
    {
     "data": {
      "image/png": "[encoded data removed]",
      "text/plain": [
       "<matplotlib.figure.Figure at 0x7f1e096ffe10>"
      ]
     },
     "metadata": {},
     "output_type": "display_data"
    }
   ],
   "source": [
    "# Display random image and label from training data.\n",
    "\n",
    "def random_data_sample(data):\n",
    "    ri = random.randint(0, len(data)-1)\n",
    "    X_rand = data[ri][0]\n",
    "    y_rand = data[ri][1]\n",
    "    \n",
    "    return X_rand, y_rand\n",
    "\n",
    "def display_random_digit(data):\n",
    "    X_rand, y_rand = random_data_sample(data)\n",
    "\n",
    "    rand_img = X_rand.reshape((28, 28))\n",
    "    plt.figure()\n",
    "    plt.imshow(rand_img, cmap='gray')\n",
    "    \n",
    "    print(np.argmax(y_rand))\n",
    "    \n",
    "display_random_digit(training_data)"
   ]
  },
  {
   "cell_type": "markdown",
   "metadata": {},
   "source": [
    "## One hot encoding"
   ]
  },
  {
   "cell_type": "code",
   "execution_count": 16,
   "metadata": {},
   "outputs": [
    {
     "name": "stdout",
     "output_type": "stream",
     "text": [
      "[[ 0.]\n",
      " [ 0.]\n",
      " [ 0.]\n",
      " [ 0.]\n",
      " [ 0.]\n",
      " [ 0.]\n",
      " [ 0.]\n",
      " [ 1.]\n",
      " [ 0.]\n",
      " [ 0.]]\n",
      "7\n"
     ]
    },
    {
     "data": {
      "image/png": "[encoded data removed]",
      "text/plain": [
       "<matplotlib.figure.Figure at 0x7f1e0873ed50>"
      ]
     },
     "metadata": {},
     "output_type": "display_data"
    }
   ],
   "source": [
    "def display_random_one_hot_encoding(data):\n",
    "    _, y_rand = random_data_sample(data)\n",
    "    print(y_rand)\n",
    "    plt.figure()\n",
    "    plt.imshow(y_rand.T, cmap='gray')\n",
    "    print(np.argmax(y_rand))\n",
    "    \n",
    "display_random_one_hot_encoding(training_data)"
   ]
  },
  {
   "cell_type": "markdown",
   "metadata": {},
   "source": [
    "TODO display random numbers\n",
    "TODO graph"
   ]
  },
  {
   "cell_type": "code",
   "execution_count": 21,
   "metadata": {},
   "outputs": [
    {
     "name": "stdout",
     "output_type": "stream",
     "text": [
      "Epoch 0: 9134 / 10000\n",
      "Epoch 1: 9277 / 10000\n",
      "Epoch 2: 9356 / 10000\n"
     ]
    }
   ],
   "source": [
    "# Training\n",
    "epochs=3\n",
    "mini_batch_size=10\n",
    "eta=3.0\n",
    "\n",
    "biases_final, weights_final, train_acc, test_acc = SGD(biases, weights, training_data, epochs, mini_batch_size, eta, test_data=validation_data)\n",
    "\n",
    "# Plo\n",
    "# plt.plot(range(len(test_acc)), test_acc)"
   ]
  },
  {
   "cell_type": "code",
   "execution_count": 26,
   "metadata": {},
   "outputs": [
    {
     "data": {
      "text/plain": [
       "<matplotlib.text.Text at 0x7f1e08658a10>"
      ]
     },
     "execution_count": 26,
     "metadata": {},
     "output_type": "execute_result"
    },
    {
     "data": {
      "image/png": "[encoded data removed]",
      "text/plain": [
       "<matplotlib.figure.Figure at 0x7f1e087ace90>"
      ]
     },
     "metadata": {},
     "output_type": "display_data"
    }
   ],
   "source": [
    "plt.plot(range(len(test_acc)), test_acc, c=\"r\")\n",
    "plt.plot(range(len(train_acc)), train_acc, c=\"b\")\n",
    "plt.ylabel(\"accuracy\")\n",
    "plt.xlabel(\"epochs\")"
   ]
  },
  {
   "cell_type": "markdown",
   "metadata": {},
   "source": [
    "## Keras"
   ]
  }
 ],
 "metadata": {
  "kernelspec": {
   "display_name": "Python 2",
   "language": "python",
   "name": "python2"
  },
  "language_info": {
   "codemirror_mode": {
    "name": "ipython",
    "version": 2
   },
   "file_extension": ".py",
   "mimetype": "text/x-python",
   "name": "python",
   "nbconvert_exporter": "python",
   "pygments_lexer": "ipython2",
   "version": "2.7.13"
  }
 },
 "nbformat": 4,
 "nbformat_minor": 2
}
