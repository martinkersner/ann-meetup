{
 "cells": [
  {
   "cell_type": "markdown",
   "metadata": {},
   "source": [
    "# Artificial Neural Networks\n",
    "\n",
    "Martin Kersner\n",
    "\n",
    "Inspired by http://neuralnetworksanddeeplearning.com/ and https://github.com/mnielsen/neural-networks-and-deep-learning/blob/master/src/network.py."
   ]
  },
  {
   "cell_type": "markdown",
   "metadata": {},
   "source": [
    "* stochastic gradient descent learning\n",
    "* backpropagation\n",
    "* forward pass\n",
    "* backward pass"
   ]
  },
  {
   "cell_type": "code",
   "execution_count": 3,
   "metadata": {
    "collapsed": true
   },
   "outputs": [],
   "source": [
    "from __future__ import division\n",
    "import random\n",
    "import numpy as np\n",
    "from utils import *\n",
    "import matplotlib.pyplot as plt\n",
    "\n",
    "%matplotlib inline"
   ]
  },
  {
   "cell_type": "markdown",
   "metadata": {},
   "source": [
    "## Perceptron\n",
    "\n",
    "<img src=\"files/perceptron.png\" />"
   ]
  },
  {
   "cell_type": "code",
   "execution_count": 4,
   "metadata": {},
   "outputs": [
    {
     "name": "stdout",
     "output_type": "stream",
     "text": [
      "[[ 2.77]]\n"
     ]
    }
   ],
   "source": [
    "# PERCEPTRON - MATRIX MULTIPLICATION EXAMPLE\n",
    "\n",
    "# w_1 = 1\n",
    "# w_2 = 1.1\n",
    "# w_3 = 0.1\n",
    "# w_4 = 0.2\n",
    "W = np.matrix([[1.0, 1.1, 0.1, 0.2]])\n",
    "\n",
    "# x_1 = 0.5\n",
    "# x_2 = 0.7\n",
    "# x_3 = 3\n",
    "# x_4 = 1.0\n",
    "X = np.matrix([[0.5],\n",
    "               [0.7],\n",
    "               [3],\n",
    "               [1.0]])\n",
    "\n",
    "# bias\n",
    "b = 1\n",
    "\n",
    "# forward pass\n",
    "h = np.dot(W, X) + b\n",
    "print(h)\n",
    "\n",
    "# Activation function\n",
    "# a = activation_function(h)"
   ]
  },
  {
   "cell_type": "markdown",
   "metadata": {},
   "source": [
    "## Multilayer perceptron\n",
    "\n",
    "<img src=\"files/multi-layer-perceptron.png\" />"
   ]
  },
  {
   "cell_type": "code",
   "execution_count": 10,
   "metadata": {},
   "outputs": [
    {
     "name": "stdout",
     "output_type": "stream",
     "text": [
      "[[ 3.05]\n",
      " [ 1.55]\n",
      " [ 3.18]]\n"
     ]
    }
   ],
   "source": [
    "# MULTILAYER PERCEPTRON - MATRIX MULTIPLICATION EXAMPLE\n",
    "\n",
    "# w_11 = 1.0\n",
    "# w_12 = 1.1\n",
    "# w_13 = 1.3\n",
    "# w_21 = 0.1\n",
    "# w_22 = 0.2\n",
    "# w_23 = 0.6\n",
    "# w_31 = 0.4\n",
    "# w_32 = 1.2\n",
    "# w_32 = 1.9\n",
    "W = np.matrix([[1.0, 1.1, 1.3], \n",
    "               [0.1, 0.2, 0.6],\n",
    "               [0.4, 1.2, 1.9]])\n",
    "\n",
    "# x_1 = 0.5\n",
    "# x_2 = 0.7\n",
    "# x_3 = 0.6\n",
    "X = np.matrix([[0.5],\n",
    "               [0.7],\n",
    "               [0.6]])\n",
    "\n",
    "#bias\n",
    "b = np.matrix([[1.0],\n",
    "               [1.0],\n",
    "               [1.0]])\n",
    "\n",
    "\n",
    "# forward pass\n",
    "h = np.dot(W, X) + b\n",
    "print(h)\n",
    "\n",
    "# Activation function\n",
    "# a = activation_function(h)"
   ]
  },
  {
   "cell_type": "code",
   "execution_count": null,
   "metadata": {
    "collapsed": true
   },
   "outputs": [],
   "source": [
    "# DEFINE AND INITIALIZE\n",
    "\n",
    "# The first layer containing 2 neurons, the second layer 3 neurons, and the third layer 1 neuron.  \n",
    "layers = [784, 30, 10]\n",
    "\n",
    "# Altogether 3 layers.\n",
    "num_layers = len(layers)\n",
    "\n",
    "# The biases and weights for the network are initialized randomly, using a Gaussian distribution\n",
    "# with mean 0, and variance 1. The first layer is assumed to be an input layer, and by convention we\n",
    "# won't set any biases for those neurons.\n",
    "biases  = [np.random.randn(y, 1) for y in layers[1:]]\n",
    "weights = [np.random.randn(y, x) for x, y in zip(layers[:-1], layers[1:])]"
   ]
  },
  {
   "cell_type": "code",
   "execution_count": null,
   "metadata": {},
   "outputs": [],
   "source": [
    "# BIASES in layers\n",
    "for b in biases:\n",
    "    print(len(b))"
   ]
  },
  {
   "cell_type": "code",
   "execution_count": null,
   "metadata": {},
   "outputs": [],
   "source": [
    "# BIAS VALUES\n",
    "print(biases)"
   ]
  },
  {
   "cell_type": "code",
   "execution_count": null,
   "metadata": {},
   "outputs": [],
   "source": [
    "# WEIGHTS in layers\n",
    "for w in weights:\n",
    "    print(w.shape)"
   ]
  },
  {
   "cell_type": "code",
   "execution_count": null,
   "metadata": {},
   "outputs": [],
   "source": [
    "# WEIGHTS\n",
    "print(weights)"
   ]
  },
  {
   "cell_type": "markdown",
   "metadata": {},
   "source": [
    "## Sigmoid activation function\n",
    "* introduces non-linearity\n",
    "\n",
    "<img src=\"files/sigmoid.png\">"
   ]
  },
  {
   "cell_type": "code",
   "execution_count": null,
   "metadata": {
    "collapsed": true
   },
   "outputs": [],
   "source": [
    "def sigmoid(z):\n",
    "    return 1.0/(1.0+np.exp(-z))"
   ]
  },
  {
   "cell_type": "code",
   "execution_count": null,
   "metadata": {
    "collapsed": true
   },
   "outputs": [],
   "source": [
    "def feedforward(biases, weights, a):\n",
    "    for b, w in zip(biases, weights):\n",
    "        a = sigmoid(np.dot(w, a)+b)\n",
    "    return a"
   ]
  },
  {
   "cell_type": "markdown",
   "metadata": {},
   "source": [
    "### Backpropagation\n",
    "\n",
    "### Derivation of sigmoid"
   ]
  },
  {
   "cell_type": "code",
   "execution_count": null,
   "metadata": {
    "collapsed": true
   },
   "outputs": [],
   "source": [
    "def sigmoid_prime(z):\n",
    "    return sigmoid(z)*(1-sigmoid(z))\n",
    "\n",
    "def cost_derivative(output_activations, y):\n",
    "    \"\"\"Return the vector of partial derivatives \\partial C_x /\n",
    "    \\partial a for the output activations.\"\"\"\n",
    "    return (output_activations-y)\n",
    "        \n",
    "def backprop(biases, weights, x, y):\n",
    "    \"\"\"Return a tuple ``(nabla_b, nabla_w)`` representing the\n",
    "    gradient for the cost function C_x.  ``nabla_b`` and\n",
    "    ``nabla_w`` are layer-by-layer lists of numpy arrays, similar\n",
    "    to ``self.biases`` and ``self.weights``.\"\"\"\n",
    "    \n",
    "    nabla_b = zeros_like(biases)\n",
    "    nabla_w = zeros_like(weights)\n",
    "    \n",
    "    # feedforward\n",
    "    activation = x\n",
    "    activations = [x] # list to store all the activations, layer by layer\n",
    "    zs = [] # list to store all the z vectors, layer by layer\n",
    "    \n",
    "    for b, w in zip(biases, weights):\n",
    "        z = np.dot(w, activation)+b\n",
    "        zs.append(z)\n",
    "        activation = sigmoid(z)\n",
    "        activations.append(activation)\n",
    "        \n",
    "    # backward pass\n",
    "    delta = cost_derivative(activations[-1], y) * sigmoid_prime(zs[-1])\n",
    "    nabla_b[-1] = delta\n",
    "    nabla_w[-1] = np.dot(delta, activations[-2].transpose())\n",
    "    # Note that the variable l in the loop below is used a little\n",
    "    # differently to the notation in Chapter 2 of the book.  Here,\n",
    "    # l = 1 means the last layer of neurons, l = 2 is the\n",
    "    # second-last layer, and so on.  It's a renumbering of the\n",
    "    # scheme in the book, used here to take advantage of the fact\n",
    "    # that Python can use negative indices in lists.\n",
    "    num_layers = len(weights)+1\n",
    "    for l in xrange(2, num_layers):\n",
    "        z = zs[-l]\n",
    "        sp = sigmoid_prime(z)\n",
    "        delta = np.dot(weights[-l+1].transpose(), delta) * sp\n",
    "        nabla_b[-l] = delta\n",
    "        nabla_w[-l] = np.dot(delta, activations[-l-1].transpose())\n",
    "    return (nabla_b, nabla_w)"
   ]
  },
  {
   "cell_type": "markdown",
   "metadata": {},
   "source": [
    "## Minibatch\n",
    "* TODO minibatch explanation\n",
    "* TOOD update update explanation\n",
    "* TODO eta explanation"
   ]
  },
  {
   "cell_type": "code",
   "execution_count": null,
   "metadata": {
    "collapsed": true
   },
   "outputs": [],
   "source": [
    "# eta - learning rate\n",
    "def update_mini_batch(biases, weights, mini_batch, eta):\n",
    "    def update(v, nv, eta, mini_batch_size):\n",
    "        return v-(eta/mini_batch_size)*nv\n",
    "    \n",
    "    def cumulate(nabla_v, delta_nabla_v):\n",
    "        return [nv+dnv for nv, dnv in zip(nabla_v, delta_nabla_v)]\n",
    "        \n",
    "    nabla_b = zeros_like(biases)\n",
    "    nabla_w = zeros_like(weights)\n",
    "    \n",
    "    # !! TODO explanation\n",
    "    for x, y in mini_batch:\n",
    "        delta_nabla_b, delta_nabla_w = backprop(biases, weights, x, y)\n",
    "        nabla_b = cumulate(nabla_b, delta_nabla_b)\n",
    "        nabla_w = cumulate(nabla_w, delta_nabla_w)\n",
    "    \n",
    "    mini_batch_size = len(mini_batch)\n",
    "    \n",
    "    weights = [update(w, nw, eta, mini_batch_size)\n",
    "               for w, nw in zip(weights, nabla_w)]\n",
    "    \n",
    "    biases = [update(b, nb, eta, mini_batch_size)\n",
    "              for b, nb in zip(biases, nabla_b)]\n",
    "    \n",
    "    return biases, weights"
   ]
  },
  {
   "cell_type": "markdown",
   "metadata": {},
   "source": [
    "* Stochastic gradient descent\n",
    "* Epoch"
   ]
  },
  {
   "cell_type": "code",
   "execution_count": null,
   "metadata": {
    "collapsed": true
   },
   "outputs": [],
   "source": [
    "def SGD(biases, weights, training_data, epochs, mini_batch_size, eta, test_data=None):\n",
    "    \"\"\"Train the neural network using mini-batch stochastic\n",
    "    gradient descent.  The ``training_data`` is a list of tuples\n",
    "    ``(x, y)`` representing the training inputs and the desired\n",
    "    outputs.  The other non-optional parameters are\n",
    "    self-explanatory.  If ``test_data`` is provided then the\n",
    "    network will be evaluated against the test data after each\n",
    "    epoch, and partial progress printed out.  This is useful for\n",
    "    tracking progress, but slows things down substantially.\"\"\"\n",
    "    \n",
    "    def evaluate(biases, weights, data, training_data_evalution=False):\n",
    "        if training_data_evalution:\n",
    "            test_results = [(np.argmax(feedforward(biases, weights, x)), np.argmax(y)) for (x, y) in data]\n",
    "        else:\n",
    "            test_results = [(np.argmax(feedforward(biases, weights, x)), y) for (x, y) in data]\n",
    "\n",
    "        return sum(int(x == y) for (x, y) in test_results)\n",
    "    \n",
    "    if test_data:\n",
    "        n_test = len(test_data)\n",
    "\n",
    "    n = len(training_data)\n",
    "    test_acc_lst = []\n",
    "    train_acc_lst = []\n",
    "    \n",
    "    for j in xrange(epochs):\n",
    "        random.shuffle(training_data)\n",
    "        \n",
    "        mini_batches = [training_data[k:k+mini_batch_size] for k in xrange(0, n, mini_batch_size)]\n",
    "        \n",
    "        for mini_batch in mini_batches:\n",
    "            biases, weights = update_mini_batch(biases, weights, mini_batch, eta)\n",
    "            \n",
    "        if test_data:\n",
    "            test_acc = evaluate(biases, weights, test_data)\n",
    "            test_acc_lst.append(test_acc/n_test)\n",
    "            \n",
    "            train_acc = evaluate(biases, weights, training_data, training_data_evalution=True)\n",
    "            train_acc_lst.append(train_acc/n)\n",
    "            \n",
    "            print(\"Epoch {0}: {1} / {2}\".format(j, test_acc, n_test))\n",
    "        else:\n",
    "            print(\"Epoch {0} complete\".format(j))\n",
    "            \n",
    "    return biases, weights, train_acc_lst, test_acc_lst"
   ]
  },
  {
   "cell_type": "code",
   "execution_count": null,
   "metadata": {
    "collapsed": true
   },
   "outputs": [],
   "source": [
    "# def evaluate(biases, weights, test_data):\n",
    "#     \"\"\"Return the number of test inputs for which the neural\n",
    "#     network outputs the correct result. Note that the neural\n",
    "#     network's output is assumed to be the index of whichever\n",
    "#     neuron in the final layer has the highest activation.\"\"\"\n",
    "    \n",
    "#     test_results = [(np.argmax(feedforward(biases, weights, x)), y) for (x, y) in test_data]\n",
    "#     return sum(int(x == y) for (x, y) in test_results)"
   ]
  },
  {
   "cell_type": "markdown",
   "metadata": {},
   "source": [
    "## MNIST dataset\n",
    "* http://yann.lecun.com/exdb/mnist/\n",
    "* 28 by 28 pixels\n",
    "* grayscale images"
   ]
  },
  {
   "cell_type": "code",
   "execution_count": null,
   "metadata": {
    "collapsed": true
   },
   "outputs": [],
   "source": [
    "import mnist_loader\n",
    "training_data, validation_data, test_data = mnist_loader.load_data_wrapper()"
   ]
  },
  {
   "cell_type": "code",
   "execution_count": null,
   "metadata": {},
   "outputs": [],
   "source": [
    "# Display random image and label from training data.\n",
    "\n",
    "def random_data_sample(data):\n",
    "    ri = random.randint(0, len(data)-1)\n",
    "    X_rand = data[ri][0]\n",
    "    y_rand = data[ri][1]\n",
    "    \n",
    "    return X_rand, y_rand\n",
    "\n",
    "def display_random_digit(data):\n",
    "    X_rand, y_rand = random_data_sample(data)\n",
    "\n",
    "    rand_img = X_rand.reshape((28, 28))\n",
    "    plt.figure()\n",
    "    plt.imshow(rand_img, cmap='gray')\n",
    "    \n",
    "    print(np.argmax(y_rand))\n",
    "    \n",
    "display_random_digit(training_data)"
   ]
  },
  {
   "cell_type": "markdown",
   "metadata": {},
   "source": [
    "## One hot encoding"
   ]
  },
  {
   "cell_type": "code",
   "execution_count": null,
   "metadata": {},
   "outputs": [],
   "source": [
    "def display_random_one_hot_encoding(data):\n",
    "    _, y_rand = random_data_sample(data)\n",
    "    print(y_rand)\n",
    "    plt.figure()\n",
    "    plt.imshow(y_rand.T, cmap='gray')\n",
    "    print(np.argmax(y_rand))\n",
    "    \n",
    "display_random_one_hot_encoding(training_data)"
   ]
  },
  {
   "cell_type": "markdown",
   "metadata": {},
   "source": [
    "TODO display random numbers\n",
    "TODO graph"
   ]
  },
  {
   "cell_type": "code",
   "execution_count": null,
   "metadata": {},
   "outputs": [],
   "source": [
    "%time\n",
    "\n",
    "# Training\n",
    "epochs=3\n",
    "mini_batch_size=10\n",
    "eta=3.0\n",
    "\n",
    "biases_final, weights_final, train_acc, test_acc = SGD(biases, weights, training_data, epochs, mini_batch_size, eta, test_data=validation_data)\n",
    "\n",
    "# Plot training curves\n",
    "plt.plot(range(len(test_acc)), test_acc, c=\"r\")\n",
    "plt.plot(range(len(train_acc)), train_acc, c=\"b\")\n",
    "plt.ylabel(\"accuracy\")\n",
    "plt.xlabel(\"epochs\")"
   ]
  },
  {
   "cell_type": "markdown",
   "metadata": {},
   "source": [
    "## Keras"
   ]
  }
 ],
 "metadata": {
  "kernelspec": {
   "display_name": "Python 2",
   "language": "python",
   "name": "python2"
  },
  "language_info": {
   "codemirror_mode": {
    "name": "ipython",
    "version": 2
   },
   "file_extension": ".py",
   "mimetype": "text/x-python",
   "name": "python",
   "nbconvert_exporter": "python",
   "pygments_lexer": "ipython2",
   "version": "2.7.12"
  }
 },
 "nbformat": 4,
 "nbformat_minor": 2
}
