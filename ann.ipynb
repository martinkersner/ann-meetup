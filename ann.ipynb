{
 "cells": [
  {
   "cell_type": "markdown",
   "metadata": {},
   "source": [
    "# Artificial Neural Networks\n",
    "## Seoul AI Meetup, June 25\n",
    "Martin Kersner, <m.kersner@gmail.com>\n",
    "\n",
    "Inspired by http://neuralnetworksanddeeplearning.com/ and https://github.com/mnielsen/neural-networks-and-deep-learning/blob/master/src/network.py.\n",
    "\n",
    "* Perceptron\n",
    "* Multilayer perceptron\n",
    "* Backpropagation\n",
    "* Forward pass\n",
    "    * Activation functions\n",
    "* Backward pass\n",
    "    * Stochastic Gradient Descent\n",
    "    * Weights update\n",
    "* MNIST\n",
    "* Keras"
   ]
  },
  {
   "cell_type": "code",
   "execution_count": 1,
   "metadata": {
    "collapsed": true
   },
   "outputs": [],
   "source": [
    "from __future__ import division\n",
    "import random\n",
    "import numpy as np\n",
    "from utils import *\n",
    "import matplotlib.pyplot as plt\n",
    "\n",
    "%matplotlib inline"
   ]
  },
  {
   "cell_type": "markdown",
   "metadata": {},
   "source": [
    "## (Sigmoid) Neuron,  (Perceptron)\n",
    "\n",
    "https://en.wikipedia.org/wiki/Artificial_neuron\n",
    "\n",
    "<img src=\"https://raw.githubusercontent.com/martinkersner/ann-meetup/master/files/perceptron.png\" />"
   ]
  },
  {
   "cell_type": "code",
   "execution_count": 2,
   "metadata": {},
   "outputs": [
    {
     "name": "stdout",
     "output_type": "stream",
     "text": [
      "[[ 2.77]]\n"
     ]
    }
   ],
   "source": [
    "# NEURON - MATRIX MULTIPLICATION EXAMPLE\n",
    "\n",
    "# weights\n",
    "# w_1 = 1\n",
    "# w_2 = 1.1\n",
    "# w_3 = 0.1\n",
    "# w_4 = 0.2\n",
    "W = np.matrix([[1.0, 1.1, 0.1, 0.2]])\n",
    "\n",
    "# input data\n",
    "# x_1 = 0.5\n",
    "# x_2 = 0.7\n",
    "# x_3 = 3\n",
    "# x_4 = 1.0\n",
    "X = np.matrix([[0.5],\n",
    "               [0.7],\n",
    "               [3],\n",
    "               [1.0]])\n",
    "\n",
    "# bias\n",
    "b = 1\n",
    "\n",
    "# forward pass\n",
    "z = np.dot(W, X) + b\n",
    "print(z)\n",
    "\n",
    "# Activation function\n",
    "# a = activation_function(z)"
   ]
  },
  {
   "cell_type": "markdown",
   "metadata": {},
   "source": [
    "## Multilayer perceptron\n",
    "\n",
    "<img src=\"https://raw.githubusercontent.com/martinkersner/ann-meetup/master/files/multi-layer-perceptron.png\" />"
   ]
  },
  {
   "cell_type": "code",
   "execution_count": 3,
   "metadata": {},
   "outputs": [
    {
     "name": "stdout",
     "output_type": "stream",
     "text": [
      "[[ 3.05]\n",
      " [ 1.55]\n",
      " [ 3.18]]\n"
     ]
    }
   ],
   "source": [
    "# MULTILAYER PERCEPTRON - MATRIX MULTIPLICATION EXAMPLE\n",
    "\n",
    "# weights\n",
    "# w_11 = 1.0\n",
    "# w_12 = 1.1\n",
    "# w_13 = 1.3\n",
    "# w_21 = 0.1\n",
    "# w_22 = 0.2\n",
    "# w_23 = 0.6\n",
    "# w_31 = 0.4\n",
    "# w_32 = 1.2\n",
    "# w_32 = 1.9\n",
    "W = np.matrix([[1.0, 1.1, 1.3], \n",
    "               [0.1, 0.2, 0.6],\n",
    "               [0.4, 1.2, 1.9]])\n",
    "\n",
    "# input data\n",
    "# x_1 = 0.5\n",
    "# x_2 = 0.7\n",
    "# x_3 = 0.6\n",
    "X = np.matrix([[0.5],\n",
    "               [0.7],\n",
    "               [0.6]])\n",
    "\n",
    "# biases\n",
    "b = np.matrix([[1.0],\n",
    "               [1.0],\n",
    "               [1.0]])\n",
    "\n",
    "\n",
    "# forward pass\n",
    "z = np.dot(W, X) + b\n",
    "print(z)\n",
    "\n",
    "# Activation function\n",
    "# a = activation_function(z)"
   ]
  },
  {
   "cell_type": "markdown",
   "metadata": {},
   "source": [
    "## Bias and weight initialization\n",
    "\n",
    "http://cs231n.github.io/neural-networks-2/#init"
   ]
  },
  {
   "cell_type": "code",
   "execution_count": 4,
   "metadata": {
    "collapsed": true
   },
   "outputs": [],
   "source": [
    "# The biases and weights for the network are initialized randomly, using a Gaussian distribution\n",
    "# with mean 0, and variance 1.\n",
    "def init_biases(layers, seed=None):\n",
    "    if seed:\n",
    "        np.random.seed(seed)\n",
    "\n",
    "    return [np.random.randn(y, 1) for y in layers[1:]]\n",
    "    \n",
    "def init_weights(layers, seed=None):\n",
    "    if seed:\n",
    "        np.random.seed(seed)\n",
    "\n",
    "    return [np.random.randn(y, x) for x, y in zip(layers[:-1], layers[1:])]\n",
    "\n",
    "# 3-layer neural network\n",
    "# input layer 10 neurons\n",
    "# hidden layer 15 neurons\n",
    "# output layer 7 neurons\n",
    "layers_tmp = [10, 15, 7]\n",
    "\n",
    "biases_tmp = init_biases(layers_tmp)\n",
    "weights_tmp = init_weights(layers_tmp)"
   ]
  },
  {
   "cell_type": "code",
   "execution_count": 5,
   "metadata": {},
   "outputs": [
    {
     "name": "stdout",
     "output_type": "stream",
     "text": [
      "15\n",
      "7\n"
     ]
    }
   ],
   "source": [
    "# BIASES in layers\n",
    "for b in biases_tmp:\n",
    "    print(len(b))"
   ]
  },
  {
   "cell_type": "code",
   "execution_count": 6,
   "metadata": {},
   "outputs": [
    {
     "name": "stdout",
     "output_type": "stream",
     "text": [
      "[array([[-0.02242161],\n",
      "       [-1.07180177],\n",
      "       [ 0.60398009],\n",
      "       [ 0.50483799],\n",
      "       [ 1.24350718],\n",
      "       [-0.62759863],\n",
      "       [-0.92575647],\n",
      "       [ 1.2693604 ],\n",
      "       [ 2.11685888],\n",
      "       [ 0.53784733],\n",
      "       [-0.71106547],\n",
      "       [ 1.60200562],\n",
      "       [-1.01224786],\n",
      "       [-0.16838145],\n",
      "       [-0.13549108]]), array([[ 1.9809    ],\n",
      "       [-1.48459698],\n",
      "       [-0.64937987],\n",
      "       [-0.40411166],\n",
      "       [ 1.1100887 ],\n",
      "       [-0.96895376],\n",
      "       [-0.89105552]])]\n"
     ]
    }
   ],
   "source": [
    "# BIAS VALUES\n",
    "print(biases_tmp)"
   ]
  },
  {
   "cell_type": "code",
   "execution_count": 7,
   "metadata": {},
   "outputs": [
    {
     "name": "stdout",
     "output_type": "stream",
     "text": [
      "(15, 10)\n",
      "(7, 15)\n"
     ]
    }
   ],
   "source": [
    "# WEIGHTS in layers\n",
    "for w in weights_tmp:\n",
    "    print(w.shape)"
   ]
  },
  {
   "cell_type": "code",
   "execution_count": 8,
   "metadata": {},
   "outputs": [
    {
     "name": "stdout",
     "output_type": "stream",
     "text": [
      "[array([[-0.327378  ,  1.07859139,  0.42899316,  0.11976473, -0.50757966,\n",
      "        -1.40687266, -0.42969143, -0.40222859,  0.66088949, -1.44546296],\n",
      "       [-0.4734454 , -1.37374223, -0.55143749,  2.2572509 ,  0.02359255,\n",
      "         0.17818807,  1.89923261,  0.12603604,  1.06129718,  2.33032209],\n",
      "       [-0.5503    , -0.1515886 , -0.67866064,  2.05037795, -0.46054474,\n",
      "         1.62940677,  1.01475668,  1.18085574,  0.79224695, -2.24233813],\n",
      "       [ 0.3606976 ,  0.80916118,  1.07471048, -1.48448219, -0.16763954,\n",
      "        -0.70576183,  1.26784554,  0.23129065,  0.26858803, -0.53342415],\n",
      "       [ 1.26586368,  0.72926243,  1.33723968, -0.4979991 ,  0.67636515,\n",
      "        -0.86792799, -0.77326963, -0.15323659, -0.25885257, -0.52757948],\n",
      "       [-0.35199487, -0.15021734,  0.90019464,  0.17735341, -0.67870535,\n",
      "        -0.59378709, -1.16400943, -1.42873721,  1.18242303,  0.15061488],\n",
      "       [ 0.63508678,  0.52851271,  0.66784423,  1.52759212, -1.05808143,\n",
      "        -0.07926737,  0.81978296,  0.2009845 , -0.15803013, -1.93912714],\n",
      "       [-1.03018433,  0.78468644, -1.03925327, -0.47656062,  1.0989516 ,\n",
      "         0.87815571, -1.04474358,  1.82977644,  0.04349645,  0.39599209],\n",
      "       [ 0.13203293,  0.59435975,  0.33704034,  0.06137902, -0.29406008,\n",
      "         1.00660362, -0.90384323,  0.03382693, -0.82413328, -1.48861934],\n",
      "       [ 0.19212583,  0.73926344,  0.47968625, -1.19281617,  1.20771853,\n",
      "         1.75463819, -0.05588645,  0.10519848, -0.80296181, -0.80211607],\n",
      "       [ 0.37526249, -1.05383449,  0.57688677, -0.23370507,  1.14255648,\n",
      "        -0.2446617 , -0.39410972,  0.24681106,  0.40874981,  1.25030076],\n",
      "       [-0.82086873, -0.75891182,  1.16777447,  0.82604871, -0.06849299,\n",
      "        -0.48967082,  1.864879  ,  0.01016749, -0.94917334, -0.03906152],\n",
      "       [-0.71439329, -0.42468272, -1.50952758, -1.77458353,  1.168163  ,\n",
      "         1.73937735, -0.44892399,  0.43976727, -0.22746384,  0.0974074 ],\n",
      "       [ 1.50459096,  0.73756883, -0.93814883, -0.22885164,  1.14860461,\n",
      "         1.97288812, -0.79406959,  0.59493027, -0.89833166, -0.39475848],\n",
      "       [ 0.32490166, -0.2601937 , -1.18813905, -0.53449705, -1.10272895,\n",
      "        -0.50999561, -2.78391898,  0.65935313,  1.1929399 ,  0.45055297]]), array([[ 1.076898  , -0.30209816, -0.18157642, -0.96808655, -1.2578624 ,\n",
      "         0.12432707, -0.91064293,  1.53235885,  1.60433837, -0.25332727,\n",
      "         0.52457471,  0.20944579, -0.05555355, -1.40419908,  1.08717803],\n",
      "       [-0.26618797,  1.53151412, -0.61176842,  0.07681822,  0.63339656,\n",
      "         0.86825018, -0.02634906, -1.23215043,  0.85166642, -0.53752098,\n",
      "        -0.58954043, -0.21245949,  0.00979702, -0.90417694, -1.04483066],\n",
      "       [ 1.38007228, -0.09438512,  1.88461047, -0.58829103, -1.00509743,\n",
      "         0.40388598,  0.14355538,  1.43650586, -1.37334986, -0.04190435,\n",
      "        -0.22897455, -1.02986251,  1.91651369, -2.20305018,  2.17625735],\n",
      "       [ 1.66106813,  1.42526072,  0.09361835, -0.22736469, -1.02436491,\n",
      "        -0.55399824, -0.14840945,  0.65450658, -0.07136632,  0.96250324,\n",
      "        -0.95716151, -0.71603075,  1.25430877,  0.60415343, -0.16254279],\n",
      "       [ 0.19990887, -0.49795068,  1.84485832, -0.33658069,  0.5245031 ,\n",
      "        -1.47568245,  1.74473436, -2.82487391, -0.22390143, -0.3587458 ,\n",
      "         0.00658679,  1.52706168, -0.90568304, -0.01751301, -1.38604604],\n",
      "       [-0.95561047,  0.44908347,  1.08294273, -2.20907277,  0.74929732,\n",
      "         0.42700516,  1.41468624, -1.44755024, -2.115943  ,  1.09335021,\n",
      "        -0.86837563,  0.06546267,  0.30049359,  1.07021441,  0.99016958],\n",
      "       [ 0.44414849, -0.32788405,  0.665626  ,  1.40152493, -0.17248771,\n",
      "        -1.40677421, -0.58482876,  0.31893326,  1.63434034, -1.26653414,\n",
      "        -1.3732421 ,  0.81734322,  1.96726666, -1.33505476, -0.36480442]])]\n"
     ]
    }
   ],
   "source": [
    "# WEIGHTS\n",
    "print(weights_tmp)"
   ]
  },
  {
   "cell_type": "markdown",
   "metadata": {},
   "source": [
    "## Sigmoid activation function\n",
    "\n",
    "* Introduces non-linearity\n",
    "* Saturation problem\n",
    "\n",
    "<img src=\"https://raw.githubusercontent.com/martinkersner/ann-meetup/master/files/sigmoid.png\" />\n",
    "\n",
    "Other types of activation functions http://cs231n.github.io/neural-networks-1/#actfun:\n",
    "* Tanh\n",
    "* ReLU\n",
    "* Leaky ReLU\n",
    "* ELU\n",
    "* Maxout"
   ]
  },
  {
   "cell_type": "code",
   "execution_count": 9,
   "metadata": {
    "collapsed": true
   },
   "outputs": [],
   "source": [
    "def sigmoid(z):\n",
    "    return 1.0/(1.0+np.exp(-z))"
   ]
  },
  {
   "cell_type": "code",
   "execution_count": 10,
   "metadata": {},
   "outputs": [
    {
     "data": {
      "text/plain": [
       "[<matplotlib.lines.Line2D at 0x7f6f3d443310>]"
      ]
     },
     "execution_count": 10,
     "metadata": {},
     "output_type": "execute_result"
    },
    {
     "data": {
      "image/png": "[encoded data removed]",
      "text/plain": [
       "<matplotlib.figure.Figure at 0x7f6f09b57a10>"
      ]
     },
     "metadata": {},
     "output_type": "display_data"
    }
   ],
   "source": [
    "# Sigmoid function plot\n",
    "x = np.linspace(-7, 7, 80)\n",
    "plt.plot(x, sigmoid(x))\n",
    "\n",
    "# center of sigmoid\n",
    "plt.plot([0,0], [0, 1], c='orange')\n",
    "plt.plot([-7,7], [0.5, 0.5], c='orange')"
   ]
  },
  {
   "cell_type": "markdown",
   "metadata": {},
   "source": [
    "## Forward pass"
   ]
  },
  {
   "cell_type": "code",
   "execution_count": 11,
   "metadata": {
    "collapsed": true
   },
   "outputs": [],
   "source": [
    "def feedforward(biases, weights, a):\n",
    "    for b, w in zip(biases, weights):\n",
    "        a = sigmoid(np.dot(w, a)+b)\n",
    "        \n",
    "    return np.argmax(a)"
   ]
  },
  {
   "cell_type": "markdown",
   "metadata": {},
   "source": [
    "## Backward pass\n",
    "\n",
    "* Derivative of sigmoid (http://www.ai.mit.edu/courses/6.892/lecture8-html/sld015.htm)"
   ]
  },
  {
   "cell_type": "code",
   "execution_count": 12,
   "metadata": {
    "collapsed": true
   },
   "outputs": [],
   "source": [
    "# Take a single training example, forward it through network, computes cost\n",
    "# and compute gradient of weights and biases for each neuron.\n",
    "def backprop(biases, weights, x, y):\n",
    "    # Derivate of sigmoid\n",
    "    def sigmoid_prime(z):\n",
    "        return sigmoid(z)*(1-sigmoid(z))\n",
    "    \n",
    "    # Derivative of mean squared error\n",
    "    def cost_derivative(output_activations, y):\n",
    "        return (output_activations-y)\n",
    "    \n",
    "    # gradients of the cost function for each layer\n",
    "    nabla_b = zeros_like(biases)\n",
    "    nabla_w = zeros_like(weights)\n",
    "    \n",
    "    # FORWARD PASS\n",
    "    activation = x\n",
    "    activations = [x] # list to store all the activations, layer by layer\n",
    "    zs = [] # list to store all the z vectors, layer by layer\n",
    "    \n",
    "    for b, w in zip(biases, weights):\n",
    "        z = np.dot(w, activation)+b        \n",
    "        activation = sigmoid(z)\n",
    "        \n",
    "        # store all previous z and a vectors\n",
    "        zs.append(z)\n",
    "        activations.append(activation)\n",
    "        \n",
    "    # BACKWARD PASS\n",
    "    # the last layer\n",
    "    loss = cost_derivative(activations[-1], y)\n",
    "    delta = loss * sigmoid_prime(zs[-1])\n",
    "    nabla_b[-1] = delta\n",
    "    nabla_w[-1] = np.dot(delta, activations[-2].transpose())\n",
    "    \n",
    "    # previous layers\n",
    "    # going backwards layer by layer\n",
    "    num_layers = len(weights)+1\n",
    "    for l in xrange(2, num_layers):\n",
    "        z = zs[-l]\n",
    "        sp = sigmoid_prime(z)\n",
    "        delta = np.dot(weights[-l+1].transpose(), delta) * sp\n",
    "        \n",
    "        nabla_b[-l] = delta\n",
    "        nabla_w[-l] = np.dot(delta, activations[-l-1].transpose())\n",
    "        \n",
    "    return (nabla_b, nabla_w, np.mean(np.square(loss)))"
   ]
  },
  {
   "cell_type": "markdown",
   "metadata": {},
   "source": [
    "## Stochastic Gradient Descent (aka SGD)\n",
    "* Stochastic\n",
    "* Gradient\n",
    "* Descent\n",
    "\n",
    "<img src=\"https://raw.githubusercontent.com/martinkersner/ann-meetup/master/files/gradient-descent.png\" />\n",
    "\n",
    "<img src=\"https://raw.githubusercontent.com/martinkersner/ann-meetup/master/files/sgd-update.png\" />\n",
    "\n",
    "### Learning rate (aka eta)\n",
    "Learning rate represents size of step during gradient descent.\n",
    "\n",
    "### Minibatch\n",
    "Minibatch is randomly selected training inputs of fixed size."
   ]
  },
  {
   "cell_type": "code",
   "execution_count": 13,
   "metadata": {
    "collapsed": true
   },
   "outputs": [],
   "source": [
    "# Update weights.\n",
    "def update_mini_batch(biases, weights, mini_batch, eta):\n",
    "    def update(v, nv, eta, mini_batch_size):\n",
    "        return v-(eta/mini_batch_size)*nv\n",
    "    \n",
    "    def cumulate(nabla_v, delta_nabla_v):\n",
    "        return [nv+dnv for nv, dnv in zip(nabla_v, delta_nabla_v)]\n",
    "        \n",
    "    nabla_b = zeros_like(biases)\n",
    "    nabla_w = zeros_like(weights)\n",
    "    loss = 0\n",
    "    \n",
    "    # Collect weights and bias gradients for each minibatch and sum them\n",
    "    for x, y in mini_batch:\n",
    "        delta_nabla_b, delta_nabla_w, loss_tmp = backprop(biases, weights, x, y)\n",
    "        \n",
    "        nabla_b = cumulate(nabla_b, delta_nabla_b)\n",
    "        nabla_w = cumulate(nabla_w, delta_nabla_w)\n",
    "        loss += loss_tmp\n",
    "    \n",
    "    mini_batch_size = len(mini_batch)\n",
    "    \n",
    "    weights = [update(w, nw, eta, mini_batch_size)\n",
    "               for w, nw in zip(weights, nabla_w)]\n",
    "    \n",
    "    biases = [update(b, nb, eta, mini_batch_size)\n",
    "              for b, nb in zip(biases, nabla_b)]\n",
    "    \n",
    "    return biases, weights, loss/mini_batch_size"
   ]
  },
  {
   "cell_type": "markdown",
   "metadata": {},
   "source": [
    "## Training\n",
    "* **Epoch** full pass through the training set. ([reference](http://ufldl.stanford.edu/tutorial/supervised/OptimizationStochasticGradientDescent/))"
   ]
  },
  {
   "cell_type": "code",
   "execution_count": 14,
   "metadata": {
    "collapsed": true
   },
   "outputs": [],
   "source": [
    "def SGD(biases, weights, training_data, epochs, mini_batch_size, eta, test_data=None, seed=None):\n",
    "    def evaluate(biases, weights, data, training_data_evalution=False):\n",
    "        if training_data_evalution:\n",
    "            test_results = [(feedforward(biases, weights, x), np.argmax(y)) for (x, y) in data]\n",
    "        else:\n",
    "            test_results = [(feedforward(biases, weights, x), y) for (x, y) in data]\n",
    "\n",
    "        return sum(int(x == y) for (x, y) in test_results)\n",
    "    \n",
    "    if test_data:\n",
    "        n_test = len(test_data)\n",
    "\n",
    "    n = len(training_data)\n",
    "    test_acc_lst = []\n",
    "    train_acc_lst = []\n",
    "    loss_lst = []\n",
    "    \n",
    "    if not seed:\n",
    "        np.random.seed(seed)\n",
    "    \n",
    "    for j in xrange(epochs):\n",
    "        random.shuffle(training_data)\n",
    "        \n",
    "        mini_batches = [training_data[k:k+mini_batch_size] for k in xrange(0, n, mini_batch_size)]\n",
    "        loss = 0\n",
    "        \n",
    "        for mini_batch in mini_batches:\n",
    "            biases, weights, loss_tmp = update_mini_batch(biases, weights, mini_batch, eta)\n",
    "            loss += loss_tmp\n",
    "            \n",
    "        loss /= len(mini_batches)\n",
    "        loss_lst.append(loss)\n",
    "        \n",
    "        if test_data:\n",
    "            test_acc = evaluate(biases, weights, test_data)\n",
    "            test_acc_lst.append(test_acc/n_test)\n",
    "            \n",
    "            train_acc = evaluate(biases, weights, training_data, training_data_evalution=True)\n",
    "            train_acc_lst.append(train_acc/n)\n",
    "            \n",
    "            print(\"Epoch {0}, acc: {1}, loss: {2}\".format(j, test_acc/n_test, loss))\n",
    "        else:\n",
    "            print(\"Epoch {0} complete, loss: {3}\".format(j, loss))\n",
    "            \n",
    "    return biases, weights, train_acc_lst, test_acc_lst, loss_lst"
   ]
  },
  {
   "cell_type": "markdown",
   "metadata": {},
   "source": [
    "## MNIST dataset\n",
    "* http://yann.lecun.com/exdb/mnist/\n",
    "* 28 by 28 pixels\n",
    "* grayscale images"
   ]
  },
  {
   "cell_type": "code",
   "execution_count": 15,
   "metadata": {},
   "outputs": [
    {
     "name": "stdout",
     "output_type": "stream",
     "text": [
      "number of training examples: 50000\n",
      "number of validation examples: 10000\n",
      "number of test examples: 10000\n"
     ]
    }
   ],
   "source": [
    "import mnist_loader\n",
    "training_data, validation_data, test_data = mnist_loader.load_data_wrapper()\n",
    "\n",
    "print(\"number of training examples: {0:1d}\".format(len(training_data)))\n",
    "print(\"number of validation examples: {0:1d}\".format(len(validation_data)))\n",
    "print(\"number of test examples: {0:1d}\".format(len(test_data)))"
   ]
  },
  {
   "cell_type": "markdown",
   "metadata": {},
   "source": [
    "## Data"
   ]
  },
  {
   "cell_type": "code",
   "execution_count": 16,
   "metadata": {},
   "outputs": [
    {
     "name": "stdout",
     "output_type": "stream",
     "text": [
      "4\n"
     ]
    },
    {
     "data": {
      "image/png": "[encoded data removed]",
      "text/plain": [
       "<matplotlib.figure.Figure at 0x7f6f1bfafe90>"
      ]
     },
     "metadata": {},
     "output_type": "display_data"
    }
   ],
   "source": [
    "def get_sample(data, idx):\n",
    "    X_rand = data[idx][0]\n",
    "    y_rand = data[idx][1]\n",
    "    \n",
    "    return X_rand, y_rand\n",
    "\n",
    "def display_digit(data, idx=None):\n",
    "    \"\"\" If idx parameter is not specified display random data sample. \"\"\"\n",
    "    if idx == None:\n",
    "        idx = random.randint(0, len(data)-1)\n",
    "    \n",
    "    X_tmp, y_tmp = get_sample(data, idx)\n",
    "\n",
    "    img = X_tmp.reshape((28, 28))\n",
    "    plt.figure()\n",
    "    plt.imshow(img, cmap='gray')\n",
    "    \n",
    "    if isinstance(y_tmp, int):\n",
    "        print(y_tmp)\n",
    "    else:\n",
    "        print(np.argmax(y_tmp))\n",
    "    \n",
    "display_digit(training_data)"
   ]
  },
  {
   "cell_type": "markdown",
   "metadata": {},
   "source": [
    "### One-hot encoding"
   ]
  },
  {
   "cell_type": "code",
   "execution_count": 17,
   "metadata": {},
   "outputs": [
    {
     "name": "stdout",
     "output_type": "stream",
     "text": [
      "[[ 1.]\n",
      " [ 0.]\n",
      " [ 0.]\n",
      " [ 0.]\n",
      " [ 0.]\n",
      " [ 0.]\n",
      " [ 0.]\n",
      " [ 0.]\n",
      " [ 0.]\n",
      " [ 0.]]\n",
      "0\n"
     ]
    },
    {
     "data": {
      "image/png": "[encoded data removed]",
      "text/plain": [
       "<matplotlib.figure.Figure at 0x7f6f1bfaff10>"
      ]
     },
     "metadata": {},
     "output_type": "display_data"
    }
   ],
   "source": [
    "def display_random_one_hot_encoding(data):\n",
    "    rand_idx = random.randint(0, len(data)-1)    \n",
    "    _, y_rand = get_sample(data, rand_idx)\n",
    "    \n",
    "    print(y_rand)\n",
    "    plt.figure()\n",
    "    plt.imshow(y_rand.T, cmap='gray')\n",
    "    print(np.argmax(y_rand))\n",
    "    \n",
    "display_random_one_hot_encoding(training_data)"
   ]
  },
  {
   "cell_type": "markdown",
   "metadata": {},
   "source": [
    "### Training"
   ]
  },
  {
   "cell_type": "code",
   "execution_count": 18,
   "metadata": {},
   "outputs": [
    {
     "name": "stdout",
     "output_type": "stream",
     "text": [
      "Epoch 0, acc: 0.9153, loss: 0.0272714802112\n",
      "Epoch 1, acc: 0.9213, loss: 0.0141165231601\n",
      "Epoch 2, acc: 0.936, loss: 0.0119022335846\n",
      "Epoch 3, acc: 0.9395, loss: 0.0107110286882\n",
      "Epoch 4, acc: 0.942, loss: 0.00966885858897\n"
     ]
    }
   ],
   "source": [
    "# The first layer containing 784 neurons (784 pixels as input), \n",
    "# the second layer 30 neurons (arbitrarily chosen),\n",
    "# and the output layer has 10 neurons (one-hot encoding for 10 different values).\n",
    "layers = [784, 30, 10]\n",
    "\n",
    "seed = 6 # seed number to get always the same weights and biases\n",
    "\n",
    "# randomly initialize weights and biases\n",
    "biases = init_biases(layers, seed=seed)\n",
    "weights = init_weights(layers, seed=seed)\n",
    "\n",
    "# Training hyperparameters\n",
    "epochs=5\n",
    "batch_size=10\n",
    "eta=3.0\n",
    "\n",
    "# Train\n",
    "biases_final, weights_final, train_acc, test_acc, loss = SGD(biases, weights, training_data, \\\n",
    "                                                             epochs, batch_size, eta, \\\n",
    "                                                             test_data=validation_data, seed=seed)\n",
    "\n",
    "# Do not evaluate model after each epoch \n",
    "# biases_final, weights_final, _, _, loss = SGD(biases, weights, training_data, \\\n",
    "#                                               epochs, mini_batch_size, eta, \\\n",
    "#                                               seed=seed)"
   ]
  },
  {
   "cell_type": "code",
   "execution_count": 19,
   "metadata": {},
   "outputs": [
    {
     "data": {
      "text/plain": [
       "<matplotlib.text.Text at 0x7f6f07a3d6d0>"
      ]
     },
     "execution_count": 19,
     "metadata": {},
     "output_type": "execute_result"
    },
    {
     "data": {
      "image/png": "[encoded data removed]",
      "text/plain": [
       "<matplotlib.figure.Figure at 0x7f6f09df9cd0>"
      ]
     },
     "metadata": {},
     "output_type": "display_data"
    }
   ],
   "source": [
    "# Plot training curves\n",
    "plt.plot(range(len(test_acc)),  test_acc,  c=\"r\", label='Test accuracy')\n",
    "plt.plot(range(len(train_acc)), train_acc, c=\"b\", label='Train accuracy')\n",
    "plt.legend()\n",
    "plt.ylabel(\"accuracy\")\n",
    "plt.xlabel(\"epochs\")"
   ]
  },
  {
   "cell_type": "code",
   "execution_count": 20,
   "metadata": {},
   "outputs": [
    {
     "data": {
      "text/plain": [
       "<matplotlib.text.Text at 0x7f6f06a07750>"
      ]
     },
     "execution_count": 20,
     "metadata": {},
     "output_type": "execute_result"
    },
    {
     "data": {
      "image/png": "[encoded data removed]",
      "text/plain": [
       "<matplotlib.figure.Figure at 0x7f6f06a07b10>"
      ]
     },
     "metadata": {},
     "output_type": "display_data"
    }
   ],
   "source": [
    "# Plot training loss\n",
    "plt.plot(range(len(loss)), loss, c=\"r\", label='Training loss')\n",
    "plt.legend()\n",
    "plt.ylabel(\"loss\")\n",
    "plt.xlabel(\"epochs\")"
   ]
  },
  {
   "cell_type": "markdown",
   "metadata": {},
   "source": [
    "### Evaluation on test dataset"
   ]
  },
  {
   "cell_type": "code",
   "execution_count": 21,
   "metadata": {},
   "outputs": [
    {
     "name": "stdout",
     "output_type": "stream",
     "text": [
      "             precision    recall  f1-score   support\n",
      "\n",
      "          0       0.95      0.98      0.97       980\n",
      "          1       0.96      0.98      0.97      1135\n",
      "          2       0.94      0.94      0.94      1032\n",
      "          3       0.90      0.94      0.92      1010\n",
      "          4       0.93      0.95      0.94       982\n",
      "          5       0.96      0.87      0.91       892\n",
      "          6       0.95      0.95      0.95       958\n",
      "          7       0.94      0.95      0.95      1028\n",
      "          8       0.93      0.93      0.93       974\n",
      "          9       0.95      0.90      0.93      1009\n",
      "\n",
      "avg / total       0.94      0.94      0.94     10000\n",
      "\n"
     ]
    },
    {
     "data": {
      "image/png": "[encoded data removed]",
      "text/plain": [
       "<matplotlib.figure.Figure at 0x7f6f37825b90>"
      ]
     },
     "metadata": {},
     "output_type": "display_data"
    }
   ],
   "source": [
    "from sklearn.metrics import confusion_matrix\n",
    "from sklearn.metrics import classification_report\n",
    "\n",
    "y_pred = []\n",
    "y_true = []\n",
    "\n",
    "for test_idx in range(len(test_data)):\n",
    "    X_test = test_data[test_idx][0]\n",
    "    y_test = test_data[test_idx][1]\n",
    "    \n",
    "    y_true.append(y_test)\n",
    "    y_pred.append(feedforward(biases_final, weights_final, X_test))\n",
    "\n",
    "# Confusion matrix\n",
    "plt.imshow(confusion_matrix(y_true, y_pred), cmap=\"jet\")\n",
    "\n",
    "# Precision, Recall, F1-score, Support\n",
    "print(classification_report(y_true, y_pred))"
   ]
  },
  {
   "cell_type": "markdown",
   "metadata": {},
   "source": [
    "## Keras: The Python Deep Learning library\n",
    "https://keras.io/\n",
    "\n",
    "Keras high-level neural networks API, written in Python and capable of running on top of either **TensorFlow**, CNTK or Theano. "
   ]
  },
  {
   "cell_type": "code",
   "execution_count": 22,
   "metadata": {
    "collapsed": true
   },
   "outputs": [],
   "source": [
    "def mnist4keras(data):\n",
    "    int_type = False\n",
    "    if isinstance(data[0][1], int):\n",
    "        int_type = True\n",
    "        \n",
    "    X = np.zeros((len(data), 784))\n",
    "    y = np.zeros((len(data), 10))\n",
    "    \n",
    "    for idx, data_tmp in enumerate(data):\n",
    "        X_tmp, y_tmp = data[idx]\n",
    "        X[idx] = X_tmp.T\n",
    "        \n",
    "        if int_type:\n",
    "            y[idx][y_tmp] = 1 # create one-hot encoding\n",
    "        else:\n",
    "            y[idx] = y_tmp.T\n",
    "    \n",
    "    return X, y"
   ]
  },
  {
   "cell_type": "markdown",
   "metadata": {},
   "source": [
    "### Design network and train model"
   ]
  },
  {
   "cell_type": "code",
   "execution_count": 23,
   "metadata": {},
   "outputs": [
    {
     "name": "stderr",
     "output_type": "stream",
     "text": [
      "Using TensorFlow backend.\n"
     ]
    },
    {
     "name": "stdout",
     "output_type": "stream",
     "text": [
      "Epoch 1/5\n",
      "50000/50000 [==============================] - 9s - loss: 0.0569 - acc: 0.5715     \n",
      "Epoch 2/5\n",
      "50000/50000 [==============================] - 9s - loss: 0.0336 - acc: 0.7615     \n",
      "Epoch 3/5\n",
      "50000/50000 [==============================] - 8s - loss: 0.0217 - acc: 0.8686     \n",
      "Epoch 4/5\n",
      "50000/50000 [==============================] - 8s - loss: 0.0172 - acc: 0.8972     \n",
      "Epoch 5/5\n",
      "50000/50000 [==============================] - 8s - loss: 0.0153 - acc: 0.9075     \n",
      " 9480/10000 [===========================>..] - ETA: 0s\n",
      "\n",
      "Results on validation data\n",
      "loss: 0.013757\n",
      "accuracy: 0.919900\n"
     ]
    }
   ],
   "source": [
    "from keras.models import Sequential\n",
    "from keras.layers import Dense, Activation\n",
    "from keras.optimizers import SGD\n",
    "from keras.initializers import RandomNormal\n",
    "\n",
    "# Repeatability\n",
    "np.random.seed(seed) \n",
    "\n",
    "# Data preparation\n",
    "X_train, y_train = mnist4keras(training_data)\n",
    "X_valid, y_valid = mnist4keras(validation_data)\n",
    "\n",
    "# Network design\n",
    "model = Sequential()\n",
    "model.add(Dense(30, activation='sigmoid', input_dim=784,\n",
    "               kernel_initializer=RandomNormal(mean=0.0, stddev=1, seed=seed),\n",
    "               bias_initializer=RandomNormal(mean=0.0, stddev=1, seed=seed)))\n",
    "model.add(Dense(10, activation='sigmoid',\n",
    "               kernel_initializer=RandomNormal(mean=0.0, stddev=1, seed=seed),\n",
    "               bias_initializer=RandomNormal(mean=0.0, stddev=1, seed=seed)))\n",
    "\n",
    "# Set up training procedure: SGD, loss, metrics\n",
    "sgd = SGD(lr=eta)\n",
    "model.compile(loss='mean_squared_error', optimizer=sgd, metrics=['accuracy'])\n",
    "\n",
    "# Training\n",
    "model.fit(X_train, y_train, epochs=epochs, batch_size=batch_size)\n",
    "\n",
    "# Evaluation\n",
    "score = model.evaluate(X_valid, y_valid, batch_size=batch_size)\n",
    "\n",
    "print(\"\\n\\nResults on validation data\")\n",
    "print(\"loss: {0:3f}\".format(score[0]))\n",
    "print(\"accuracy: {0:3f}\".format(score[1]))"
   ]
  }
 ],
 "metadata": {
  "kernelspec": {
   "display_name": "Python 2",
   "language": "python",
   "name": "python2"
  },
  "language_info": {
   "codemirror_mode": {
    "name": "ipython",
    "version": 2
   },
   "file_extension": ".py",
   "mimetype": "text/x-python",
   "name": "python",
   "nbconvert_exporter": "python",
   "pygments_lexer": "ipython2",
   "version": "2.7.13"
  }
 },
 "nbformat": 4,
 "nbformat_minor": 2
}
