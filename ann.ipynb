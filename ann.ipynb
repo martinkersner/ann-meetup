{
 "cells": [
  {
   "cell_type": "markdown",
   "metadata": {},
   "source": [
    "# Artificial Neural Networks - Seoul AI Meetup, June 25\n",
    "Martin Kersner, <m.kersner@gmail.com>\n",
    "\n",
    "Inspired by http://neuralnetworksanddeeplearning.com/ and https://github.com/mnielsen/neural-networks-and-deep-learning/blob/master/src/network.py.\n",
    "\n",
    "* Perceptron\n",
    "* Multilayer perceptron\n",
    "* Backpropagation\n",
    "* Forward pass\n",
    "    * Activation functions\n",
    "* Backward pass\n",
    "    * Stochastic Gradient Descent\n",
    "    * Weights update\n",
    "* MNIST\n",
    "* Keras"
   ]
  },
  {
   "cell_type": "code",
   "execution_count": null,
   "metadata": {
    "collapsed": true
   },
   "outputs": [],
   "source": [
    "from __future__ import division\n",
    "import random\n",
    "import numpy as np\n",
    "from utils import *\n",
    "import matplotlib.pyplot as plt\n",
    "\n",
    "%matplotlib inline"
   ]
  },
  {
   "cell_type": "markdown",
   "metadata": {},
   "source": [
    "## Perceptron\n",
    "\n",
    "<img src=\"https://raw.githubusercontent.com/martinkersner/ann-meetup/master/files/perceptron.png\" />"
   ]
  },
  {
   "cell_type": "code",
   "execution_count": null,
   "metadata": {},
   "outputs": [],
   "source": [
    "# PERCEPTRON - MATRIX MULTIPLICATION EXAMPLE\n",
    "\n",
    "# weights\n",
    "# w_1 = 1\n",
    "# w_2 = 1.1\n",
    "# w_3 = 0.1\n",
    "# w_4 = 0.2\n",
    "W = np.matrix([[1.0, 1.1, 0.1, 0.2]])\n",
    "\n",
    "# input data\n",
    "# x_1 = 0.5\n",
    "# x_2 = 0.7\n",
    "# x_3 = 3\n",
    "# x_4 = 1.0\n",
    "X = np.matrix([[0.5],\n",
    "               [0.7],\n",
    "               [3],\n",
    "               [1.0]])\n",
    "\n",
    "# bias\n",
    "b = 1\n",
    "\n",
    "# forward pass\n",
    "z = np.dot(W, X) + b\n",
    "print(z)\n",
    "\n",
    "# Activation function\n",
    "# a = activation_function(z)"
   ]
  },
  {
   "cell_type": "markdown",
   "metadata": {},
   "source": [
    "## Multilayer perceptron\n",
    "\n",
    "<img src=\"https://raw.githubusercontent.com/martinkersner/ann-meetup/master/files/multi-layer-perceptron.png\" />"
   ]
  },
  {
   "cell_type": "code",
   "execution_count": null,
   "metadata": {},
   "outputs": [],
   "source": [
    "# MULTILAYER PERCEPTRON - MATRIX MULTIPLICATION EXAMPLE\n",
    "\n",
    "# weights\n",
    "# w_11 = 1.0\n",
    "# w_12 = 1.1\n",
    "# w_13 = 1.3\n",
    "# w_21 = 0.1\n",
    "# w_22 = 0.2\n",
    "# w_23 = 0.6\n",
    "# w_31 = 0.4\n",
    "# w_32 = 1.2\n",
    "# w_32 = 1.9\n",
    "W = np.matrix([[1.0, 1.1, 1.3], \n",
    "               [0.1, 0.2, 0.6],\n",
    "               [0.4, 1.2, 1.9]])\n",
    "\n",
    "# input data\n",
    "# x_1 = 0.5\n",
    "# x_2 = 0.7\n",
    "# x_3 = 0.6\n",
    "X = np.matrix([[0.5],\n",
    "               [0.7],\n",
    "               [0.6]])\n",
    "\n",
    "# biases\n",
    "b = np.matrix([[1.0],\n",
    "               [1.0],\n",
    "               [1.0]])\n",
    "\n",
    "\n",
    "# forward pass\n",
    "z = np.dot(W, X) + b\n",
    "print(z)\n",
    "\n",
    "# Activation function\n",
    "# a = activation_function(z)"
   ]
  },
  {
   "cell_type": "markdown",
   "metadata": {},
   "source": [
    "## Bias and weight initialization\n",
    "\n",
    "http://cs231n.github.io/neural-networks-2/#init"
   ]
  },
  {
   "cell_type": "code",
   "execution_count": null,
   "metadata": {
    "collapsed": true
   },
   "outputs": [],
   "source": [
    "# The biases and weights for the network are initialized randomly, using a Gaussian distribution\n",
    "# with mean 0, and variance 1.\n",
    "def init_biases(layers, seed=None):\n",
    "    if seed:\n",
    "        np.random.seed(seed)\n",
    "\n",
    "    return [np.random.randn(y, 1) for y in layers[1:]]\n",
    "    \n",
    "def init_weights(layers, seed=None):\n",
    "    if seed:\n",
    "        np.random.seed(seed)\n",
    "\n",
    "    return [np.random.randn(y, x) for x, y in zip(layers[:-1], layers[1:])]\n",
    "\n",
    "# 3-layer neural network\n",
    "# input layer 10 neurons\n",
    "# hidden layer 15 neurons\n",
    "# output layer 7 neurons\n",
    "layers_tmp = [10, 15, 7]\n",
    "\n",
    "biases_tmp = init_biases(layers_tmp)\n",
    "weights_tmp = init_weights(layers_tmp)"
   ]
  },
  {
   "cell_type": "code",
   "execution_count": null,
   "metadata": {},
   "outputs": [],
   "source": [
    "# BIASES in layers\n",
    "for b in biases_tmp:\n",
    "    print(len(b))"
   ]
  },
  {
   "cell_type": "code",
   "execution_count": null,
   "metadata": {},
   "outputs": [],
   "source": [
    "# BIAS VALUES\n",
    "print(biases_tmp)"
   ]
  },
  {
   "cell_type": "code",
   "execution_count": null,
   "metadata": {},
   "outputs": [],
   "source": [
    "# WEIGHTS in layers\n",
    "for w in weights_tmp:\n",
    "    print(w.shape)"
   ]
  },
  {
   "cell_type": "code",
   "execution_count": null,
   "metadata": {},
   "outputs": [],
   "source": [
    "# WEIGHTS\n",
    "print(weights_tmp)"
   ]
  },
  {
   "cell_type": "markdown",
   "metadata": {},
   "source": [
    "## Sigmoid activation function\n",
    "\n",
    "* Introduces non-linearity\n",
    "* Saturation problem\n",
    "\n",
    "<img src=\"https://raw.githubusercontent.com/martinkersner/ann-meetup/master/files/sigmoid.png\" />\n",
    "\n",
    "Other types of activation functions http://cs231n.github.io/neural-networks-1/#actfun:\n",
    "* Tanh\n",
    "* ReLU\n",
    "* Leaky ReLU\n",
    "* ELU\n",
    "* Maxout"
   ]
  },
  {
   "cell_type": "code",
   "execution_count": null,
   "metadata": {
    "collapsed": true
   },
   "outputs": [],
   "source": [
    "def sigmoid(z):\n",
    "    return 1.0/(1.0+np.exp(-z))"
   ]
  },
  {
   "cell_type": "code",
   "execution_count": null,
   "metadata": {},
   "outputs": [],
   "source": [
    "# Sigmoid function plot\n",
    "x = np.linspace(-7, 7, 80)\n",
    "plt.plot(x, sigmoid(x))\n",
    "\n",
    "# center of sigmoid\n",
    "plt.plot([0,0], [0, 1], c='orange')\n",
    "plt.plot([-7,7], [0.5, 0.5], c='orange')"
   ]
  },
  {
   "cell_type": "markdown",
   "metadata": {},
   "source": [
    "## Forward pass"
   ]
  },
  {
   "cell_type": "code",
   "execution_count": null,
   "metadata": {
    "collapsed": true
   },
   "outputs": [],
   "source": [
    "def feedforward(biases, weights, a):\n",
    "    for b, w in zip(biases, weights):\n",
    "        a = sigmoid(np.dot(w, a)+b)\n",
    "        \n",
    "    return np.argmax(a)"
   ]
  },
  {
   "cell_type": "markdown",
   "metadata": {},
   "source": [
    "## Backward pass\n",
    "\n",
    "* Derivative of sigmoid (http://www.ai.mit.edu/courses/6.892/lecture8-html/sld015.htm)"
   ]
  },
  {
   "cell_type": "code",
   "execution_count": null,
   "metadata": {
    "collapsed": true
   },
   "outputs": [],
   "source": [
    "# Take a single training example, forward it through network, computes cost\n",
    "# and compute gradient of weights and biases for each neuron.\n",
    "def backprop(biases, weights, x, y):\n",
    "    # Derivate of sigmoid\n",
    "    def sigmoid_prime(z):\n",
    "        return sigmoid(z)*(1-sigmoid(z))\n",
    "    \n",
    "    # Cost function\n",
    "    def cost_derivative(output_activations, y):\n",
    "        return (output_activations-y)    \n",
    "    \n",
    "    # gradients of the cost function for each layer\n",
    "    nabla_b = zeros_like(biases)\n",
    "    nabla_w = zeros_like(weights)\n",
    "    \n",
    "    # FORWARD PASS\n",
    "    activation = x\n",
    "    activations = [x] # list to store all the activations, layer by layer\n",
    "    zs = [] # list to store all the z vectors, layer by layer\n",
    "    \n",
    "    for b, w in zip(biases, weights):\n",
    "        z = np.dot(w, activation)+b        \n",
    "        activation = sigmoid(z)\n",
    "        \n",
    "        # store all previous z and a vectors\n",
    "        zs.append(z)\n",
    "        activations.append(activation)\n",
    "        \n",
    "    # BACKWARD PASS\n",
    "    # the last layer\n",
    "    delta = cost_derivative(activations[-1], y) * sigmoid_prime(zs[-1])\n",
    "    nabla_b[-1] = delta\n",
    "    nabla_w[-1] = np.dot(delta, activations[-2].transpose())\n",
    "    \n",
    "    # previous layers\n",
    "    # going backwards layer by layer\n",
    "    num_layers = len(weights)+1\n",
    "    for l in xrange(2, num_layers):\n",
    "        z = zs[-l]\n",
    "        sp = sigmoid_prime(z)\n",
    "        delta = np.dot(weights[-l+1].transpose(), delta) * sp\n",
    "        \n",
    "        nabla_b[-l] = delta\n",
    "        nabla_w[-l] = np.dot(delta, activations[-l-1].transpose())\n",
    "        \n",
    "    return (nabla_b, nabla_w)"
   ]
  },
  {
   "cell_type": "markdown",
   "metadata": {},
   "source": [
    "## Minibatch\n",
    "\n",
    "Minibatch is randomly selected training inputs of fixed size.\n",
    "\n",
    "## Stochastic Gradient Descent (aka SGD)\n",
    "* Stochastic\n",
    "* Gradient\n",
    "* Descent\n",
    "\n",
    "<img src=\"https://raw.githubusercontent.com/martinkersner/ann-meetup/master/files/gradient-descent.png\" />\n",
    "\n",
    "<img src=\"https://raw.githubusercontent.com/martinkersner/ann-meetup/master/files/sgd-update.png\" />\n",
    "\n",
    "**Eta** hyperparameter represent size of step during gradient descent."
   ]
  },
  {
   "cell_type": "code",
   "execution_count": null,
   "metadata": {
    "collapsed": true
   },
   "outputs": [],
   "source": [
    "# Update weights.\n",
    "def update_mini_batch(biases, weights, mini_batch, eta):\n",
    "    def update(v, nv, eta, mini_batch_size):\n",
    "        return v-(eta/mini_batch_size)*nv\n",
    "    \n",
    "    def cumulate(nabla_v, delta_nabla_v):\n",
    "        return [nv+dnv for nv, dnv in zip(nabla_v, delta_nabla_v)]\n",
    "        \n",
    "    nabla_b = zeros_like(biases)\n",
    "    nabla_w = zeros_like(weights)\n",
    "    \n",
    "    # Collect weights and bias gradients for each minibatch and sum them\n",
    "    for x, y in mini_batch:\n",
    "        delta_nabla_b, delta_nabla_w = backprop(biases, weights, x, y)\n",
    "        nabla_b = cumulate(nabla_b, delta_nabla_b)\n",
    "        nabla_w = cumulate(nabla_w, delta_nabla_w)\n",
    "    \n",
    "    mini_batch_size = len(mini_batch)\n",
    "    \n",
    "    weights = [update(w, nw, eta, mini_batch_size)\n",
    "               for w, nw in zip(weights, nabla_w)]\n",
    "    \n",
    "    biases = [update(b, nb, eta, mini_batch_size)\n",
    "              for b, nb in zip(biases, nabla_b)]\n",
    "    \n",
    "    return biases, weights"
   ]
  },
  {
   "cell_type": "markdown",
   "metadata": {},
   "source": [
    "## Training\n",
    "* **Epoch** full pass through the training set. ([reference](http://ufldl.stanford.edu/tutorial/supervised/OptimizationStochasticGradientDescent/))"
   ]
  },
  {
   "cell_type": "code",
   "execution_count": null,
   "metadata": {
    "collapsed": true
   },
   "outputs": [],
   "source": [
    "def SGD(biases, weights, training_data, epochs, mini_batch_size, eta, test_data=None):\n",
    "    def evaluate(biases, weights, data, training_data_evalution=False):\n",
    "        if training_data_evalution:\n",
    "            test_results = [(feedforward(biases, weights, x), np.argmax(y)) for (x, y) in data]\n",
    "        else:\n",
    "            test_results = [(feedforward(biases, weights, x), y) for (x, y) in data]\n",
    "\n",
    "        return sum(int(x == y) for (x, y) in test_results)\n",
    "    \n",
    "    if test_data:\n",
    "        n_test = len(test_data)\n",
    "\n",
    "    n = len(training_data)\n",
    "    test_acc_lst = []\n",
    "    train_acc_lst = []\n",
    "    \n",
    "    for j in xrange(epochs):\n",
    "        random.shuffle(training_data)\n",
    "        \n",
    "        mini_batches = [training_data[k:k+mini_batch_size] for k in xrange(0, n, mini_batch_size)]\n",
    "        \n",
    "        for mini_batch in mini_batches:\n",
    "            biases, weights = update_mini_batch(biases, weights, mini_batch, eta)\n",
    "            \n",
    "        if test_data:\n",
    "            test_acc = evaluate(biases, weights, test_data)\n",
    "            test_acc_lst.append(test_acc/n_test)\n",
    "            \n",
    "            train_acc = evaluate(biases, weights, training_data, training_data_evalution=True)\n",
    "            train_acc_lst.append(train_acc/n)\n",
    "            \n",
    "            print(\"Epoch {0}: {1} / {2}\".format(j, test_acc, n_test))\n",
    "        else:\n",
    "            print(\"Epoch {0} complete\".format(j))\n",
    "            \n",
    "    return biases, weights, train_acc_lst, test_acc_lst"
   ]
  },
  {
   "cell_type": "markdown",
   "metadata": {},
   "source": [
    "## MNIST dataset\n",
    "* http://yann.lecun.com/exdb/mnist/\n",
    "* 28 by 28 pixels\n",
    "* grayscale images"
   ]
  },
  {
   "cell_type": "code",
   "execution_count": null,
   "metadata": {},
   "outputs": [],
   "source": [
    "import mnist_loader\n",
    "training_data, validation_data, test_data = mnist_loader.load_data_wrapper()\n",
    "\n",
    "print(\"number of training examples: {0:1d}\".format(len(training_data)))\n",
    "print(\"number of validation examples: {0:1d}\".format(len(validation_data)))\n",
    "print(\"number of test examples: {0:1d}\".format(len(test_data)))"
   ]
  },
  {
   "cell_type": "markdown",
   "metadata": {},
   "source": [
    "## MNIST Training data"
   ]
  },
  {
   "cell_type": "code",
   "execution_count": null,
   "metadata": {},
   "outputs": [],
   "source": [
    "def get_sample(data, idx):\n",
    "    X_rand = data[idx][0]\n",
    "    y_rand = data[idx][1]\n",
    "    \n",
    "    return X_rand, y_rand\n",
    "\n",
    "def display_digit(data, idx=None):\n",
    "    \"\"\" If idx parameter is not specified display random data sample. \"\"\"\n",
    "    if idx == None:\n",
    "        idx = random.randint(0, len(data)-1)\n",
    "    \n",
    "    X_tmp, y_tmp = get_sample(data, idx)\n",
    "\n",
    "    img = X_tmp.reshape((28, 28))\n",
    "    plt.figure()\n",
    "    plt.imshow(img, cmap='gray')\n",
    "    \n",
    "    if isinstance(y_tmp, int):\n",
    "        print(y_tmp)\n",
    "    else:\n",
    "        print(np.argmax(y_tmp))\n",
    "    \n",
    "display_digit(training_data)"
   ]
  },
  {
   "cell_type": "markdown",
   "metadata": {},
   "source": [
    "## MNIST One-hot encoding"
   ]
  },
  {
   "cell_type": "code",
   "execution_count": null,
   "metadata": {},
   "outputs": [],
   "source": [
    "def display_random_one_hot_encoding(data):\n",
    "    rand_idx = random.randint(0, len(data)-1)    \n",
    "    _, y_rand = get_sample(data, rand_idx)\n",
    "    \n",
    "    print(y_rand)\n",
    "    plt.figure()\n",
    "    plt.imshow(y_rand.T, cmap='gray')\n",
    "    print(np.argmax(y_rand))\n",
    "    \n",
    "display_random_one_hot_encoding(training_data)"
   ]
  },
  {
   "cell_type": "markdown",
   "metadata": {},
   "source": [
    "## MNIST Training"
   ]
  },
  {
   "cell_type": "code",
   "execution_count": null,
   "metadata": {},
   "outputs": [],
   "source": [
    "# The first layer containing 784 neurons (784 pixels as input), \n",
    "# the second layer 30 neurons (arbitrarily chosen),\n",
    "# and the output layer has 10 neurons (one-hot encoding for 10 different values).\n",
    "layers = [784, 30, 10]\n",
    "\n",
    "seed = 5 # to get always the same results\n",
    "\n",
    "# randomly initialize weights and biases\n",
    "biases = init_biases(layers, seed=seed)\n",
    "weights = init_weights(layers, seed=seed)\n",
    "\n",
    "# Training hyperparameters\n",
    "epochs=5\n",
    "mini_batch_size=10\n",
    "eta=3.0\n",
    "\n",
    "# Train\n",
    "biases_final, weights_final, train_acc, test_acc = SGD(biases, weights, training_data, epochs, mini_batch_size, eta, test_data=validation_data)\n",
    "# biases_final, weights_final, _, _test_acc = SGD(biases, weights, training_data, epochs, mini_batch_size, eta)"
   ]
  },
  {
   "cell_type": "code",
   "execution_count": null,
   "metadata": {},
   "outputs": [],
   "source": [
    "# Plot training curves\n",
    "plt.plot(range(len(test_acc)), test_acc, c=\"r\", label='Test accuracy')\n",
    "plt.plot(range(len(train_acc)), train_acc, c=\"b\", label='Train accuracy')\n",
    "plt.legend()\n",
    "plt.ylabel(\"accuracy\")\n",
    "plt.xlabel(\"epochs\")"
   ]
  },
  {
   "cell_type": "markdown",
   "metadata": {},
   "source": [
    "## MNIST Evaluation on test dataset"
   ]
  },
  {
   "cell_type": "code",
   "execution_count": null,
   "metadata": {},
   "outputs": [],
   "source": [
    "from sklearn.metrics import confusion_matrix\n",
    "from sklearn.metrics import classification_report\n",
    "\n",
    "y_pred = []\n",
    "y_true = []\n",
    "\n",
    "for test_idx in range(len(test_data)):\n",
    "    X_test = test_data[test_idx][0]\n",
    "    y_test = test_data[test_idx][1]\n",
    "    \n",
    "    y_true.append(y_test)\n",
    "    y_pred.append(feedforward(biases_final, weights_final, X_test))\n",
    "\n",
    "# Confusion matrix\n",
    "plt.imshow(confusion_matrix(y_true, y_pred), cmap=\"jet\")\n",
    "\n",
    "# Precision, Recall, F1-score, Support\n",
    "print(classification_report(y_true, y_pred))"
   ]
  },
  {
   "cell_type": "markdown",
   "metadata": {},
   "source": [
    "## Keras"
   ]
  }
 ],
 "metadata": {
  "kernelspec": {
   "display_name": "Python 2",
   "language": "python",
   "name": "python2"
  },
  "language_info": {
   "codemirror_mode": {
    "name": "ipython",
    "version": 2
   },
   "file_extension": ".py",
   "mimetype": "text/x-python",
   "name": "python",
   "nbconvert_exporter": "python",
   "pygments_lexer": "ipython2",
   "version": "2.7.13"
  }
 },
 "nbformat": 4,
 "nbformat_minor": 2
}
