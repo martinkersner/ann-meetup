{
 "cells": [
  {
   "cell_type": "markdown",
   "metadata": {},
   "source": [
    "# Artificial Neural Networks\n",
    "\n",
    "Martin Kersner, <m.kersner@gmail.com>\n",
    "\n",
    "Inspired by http://neuralnetworksanddeeplearning.com/ and https://github.com/mnielsen/neural-networks-and-deep-learning/blob/master/src/network.py."
   ]
  },
  {
   "cell_type": "markdown",
   "metadata": {},
   "source": [
    "* Perceptron\n",
    "* Multilayer perceptron\n",
    "* Backpropagation\n",
    "* Forward pass\n",
    "    * Activation functions\n",
    "* Backward pass\n",
    "    * Stochastic Gradient Descent\n",
    "    * Weights update\n",
    "* MNIST\n",
    "* Keras"
   ]
  },
  {
   "cell_type": "code",
   "execution_count": 1,
   "metadata": {
    "collapsed": true
   },
   "outputs": [],
   "source": [
    "from __future__ import division\n",
    "import random\n",
    "import numpy as np\n",
    "from utils import *\n",
    "import matplotlib.pyplot as plt\n",
    "\n",
    "%matplotlib inline"
   ]
  },
  {
   "cell_type": "markdown",
   "metadata": {},
   "source": [
    "## Perceptron\n",
    "\n",
    "<img src=\"files/perceptron.png\" />"
   ]
  },
  {
   "cell_type": "code",
   "execution_count": 46,
   "metadata": {},
   "outputs": [
    {
     "name": "stdout",
     "output_type": "stream",
     "text": [
      "[[ 2.77]]\n"
     ]
    }
   ],
   "source": [
    "# PERCEPTRON - MATRIX MULTIPLICATION EXAMPLE\n",
    "\n",
    "# weights\n",
    "# w_1 = 1\n",
    "# w_2 = 1.1\n",
    "# w_3 = 0.1\n",
    "# w_4 = 0.2\n",
    "W = np.matrix([[1.0, 1.1, 0.1, 0.2]])\n",
    "\n",
    "# input data\n",
    "# x_1 = 0.5\n",
    "# x_2 = 0.7\n",
    "# x_3 = 3\n",
    "# x_4 = 1.0\n",
    "X = np.matrix([[0.5],\n",
    "               [0.7],\n",
    "               [3],\n",
    "               [1.0]])\n",
    "\n",
    "# bias\n",
    "b = 1\n",
    "\n",
    "# forward pass\n",
    "z = np.dot(W, X) + b\n",
    "print(z)\n",
    "\n",
    "# Activation function\n",
    "# a = activation_function(z)"
   ]
  },
  {
   "cell_type": "markdown",
   "metadata": {},
   "source": [
    "## Multilayer perceptron\n",
    "\n",
    "<img src=\"files/multi-layer-perceptron.png\" />"
   ]
  },
  {
   "cell_type": "code",
   "execution_count": 47,
   "metadata": {},
   "outputs": [
    {
     "name": "stdout",
     "output_type": "stream",
     "text": [
      "[[ 3.05]\n",
      " [ 1.55]\n",
      " [ 3.18]]\n"
     ]
    }
   ],
   "source": [
    "# MULTILAYER PERCEPTRON - MATRIX MULTIPLICATION EXAMPLE\n",
    "\n",
    "# weights\n",
    "# w_11 = 1.0\n",
    "# w_12 = 1.1\n",
    "# w_13 = 1.3\n",
    "# w_21 = 0.1\n",
    "# w_22 = 0.2\n",
    "# w_23 = 0.6\n",
    "# w_31 = 0.4\n",
    "# w_32 = 1.2\n",
    "# w_32 = 1.9\n",
    "W = np.matrix([[1.0, 1.1, 1.3], \n",
    "               [0.1, 0.2, 0.6],\n",
    "               [0.4, 1.2, 1.9]])\n",
    "\n",
    "# input data\n",
    "# x_1 = 0.5\n",
    "# x_2 = 0.7\n",
    "# x_3 = 0.6\n",
    "X = np.matrix([[0.5],\n",
    "               [0.7],\n",
    "               [0.6]])\n",
    "\n",
    "# biases\n",
    "b = np.matrix([[1.0],\n",
    "               [1.0],\n",
    "               [1.0]])\n",
    "\n",
    "\n",
    "# forward pass\n",
    "z = np.dot(W, X) + b\n",
    "print(z)\n",
    "\n",
    "# Activation function\n",
    "# a = activation_function(z)"
   ]
  },
  {
   "cell_type": "markdown",
   "metadata": {},
   "source": [
    "## Bias and weight initialization"
   ]
  },
  {
   "cell_type": "code",
   "execution_count": 11,
   "metadata": {},
   "outputs": [],
   "source": [
    "# The biases and weights for the network are initialized randomly, using a Gaussian distribution\n",
    "# with mean 0, and variance 1.\n",
    "def init_biases(layers):\n",
    "     return [np.random.randn(y, 1) for y in layers[1:]]\n",
    "    \n",
    "def init_weights(layers):\n",
    "    return [np.random.randn(y, x) for x, y in zip(layers[:-1], layers[1:])]\n",
    "\n",
    "# 3-layer neural network\n",
    "# input layer 10 neurons\n",
    "# hidden layer 15 neurons\n",
    "# output layer 7 neurons\n",
    "layers_tmp = [10, 15, 7]\n",
    "\n",
    "biases_tmp = init_biases(layers_tmp)\n",
    "weights_tmp = init_weights(layers_tmp)"
   ]
  },
  {
   "cell_type": "code",
   "execution_count": 12,
   "metadata": {},
   "outputs": [
    {
     "name": "stdout",
     "output_type": "stream",
     "text": [
      "15\n",
      "7\n"
     ]
    }
   ],
   "source": [
    "# BIASES in layers\n",
    "for b in biases_tmp:\n",
    "    print(len(b))"
   ]
  },
  {
   "cell_type": "code",
   "execution_count": 10,
   "metadata": {},
   "outputs": [
    {
     "name": "stdout",
     "output_type": "stream",
     "text": [
      "[array([[ 0.62861872],\n",
      "       [ 0.87749937],\n",
      "       [-0.42681781],\n",
      "       [ 2.03876903],\n",
      "       [-0.99044377],\n",
      "       [-1.8378341 ],\n",
      "       [ 0.60901879],\n",
      "       [ 0.94985545],\n",
      "       [ 1.06500423],\n",
      "       [ 2.14882827],\n",
      "       [-0.08968444],\n",
      "       [-2.11499101],\n",
      "       [ 0.67720556],\n",
      "       [-0.83381318],\n",
      "       [ 0.79473084]]), array([[ 1.0134096 ],\n",
      "       [-0.99480337],\n",
      "       [-1.04467281],\n",
      "       [ 1.61890306],\n",
      "       [-1.5788833 ],\n",
      "       [-0.40097283],\n",
      "       [ 0.52063158]])]\n"
     ]
    }
   ],
   "source": [
    "# BIAS VALUES\n",
    "print(biases_tmp)"
   ]
  },
  {
   "cell_type": "code",
   "execution_count": 14,
   "metadata": {},
   "outputs": [
    {
     "name": "stdout",
     "output_type": "stream",
     "text": [
      "(15, 10)\n",
      "(7, 15)\n"
     ]
    }
   ],
   "source": [
    "# WEIGHTS in layers\n",
    "for w in weights_tmp:\n",
    "    print(w.shape)"
   ]
  },
  {
   "cell_type": "code",
   "execution_count": 15,
   "metadata": {},
   "outputs": [
    {
     "name": "stdout",
     "output_type": "stream",
     "text": [
      "[array([[  1.19566493e+00,   3.07449324e-01,   3.80059953e-03,\n",
      "         -4.50449660e-01,  -2.32557005e-01,  -4.81581169e-02,\n",
      "          4.61037443e-01,  -1.16048675e-01,  -2.41228857e-01,\n",
      "          1.22735572e-01],\n",
      "       [  3.06010916e-01,  -6.24408569e-01,  -1.36339708e+00,\n",
      "          1.08882435e+00,   9.76329491e-01,  -3.58800271e-01,\n",
      "         -1.50973524e-01,  -2.00418311e+00,  -8.72815539e-01,\n",
      "          3.48648709e-01],\n",
      "       [ -3.74901320e-01,  -1.61044721e-01,   9.62709762e-01,\n",
      "         -2.35273354e-01,  -9.68733907e-01,  -1.36116129e+00,\n",
      "          2.30242238e+00,  -7.71952252e-01,  -8.13748324e-01,\n",
      "          1.24040880e-01],\n",
      "       [ -6.64150045e-01,  -7.54327923e-01,   1.09983408e-01,\n",
      "         -1.82816199e-01,   3.48986784e-01,  -1.04337528e-01,\n",
      "          1.90284599e+00,   7.76496857e-01,  -1.73592909e+00,\n",
      "         -2.06154527e-01],\n",
      "       [  3.94573166e-01,  -5.35302732e-01,  -7.37788801e-02,\n",
      "          2.66869979e-02,   5.18065377e-01,  -1.22785259e+00,\n",
      "         -8.81004486e-02,  -4.57949234e-01,   8.01341038e-04,\n",
      "          1.56616096e+00],\n",
      "       [ -8.19726750e-01,   8.13092562e-01,  -2.37373931e-01,\n",
      "         -4.01858212e-01,  -1.86116231e-01,   9.65041580e-01,\n",
      "         -7.28323803e-01,   5.99040427e-01,  -5.07622917e-01,\n",
      "          1.24623414e-01],\n",
      "       [  2.16139349e-01,  -1.16945457e+00,  -5.33515458e-01,\n",
      "         -6.28984368e-01,  -8.18679887e-04,  -5.52158420e-01,\n",
      "          1.20917544e+00,   1.98659324e-01,  -1.77755908e+00,\n",
      "         -1.21186671e+00],\n",
      "       [  3.36341790e-01,  -8.68539721e-01,  -5.63798447e-01,\n",
      "          2.04480630e-01,  -4.20458523e-01,   1.60308435e-01,\n",
      "         -7.10732396e-01,  -1.47897301e+00,   6.88104567e-01,\n",
      "         -1.69500312e-01],\n",
      "       [ -3.77159901e-01,  -7.24829101e-01,  -1.65135598e-01,\n",
      "         -1.76951261e-01,   7.31627078e-01,  -7.29227274e-01,\n",
      "          1.06553718e-01,   1.85055494e+00,   1.00394673e+00,\n",
      "          4.57760425e-01],\n",
      "       [ -3.37210519e-01,  -6.44316147e-01,   1.50371920e-01,\n",
      "         -8.86204850e-01,   7.71696306e-01,   6.94388144e-02,\n",
      "         -1.46073691e-01,  -2.54272026e+00,  -4.47067495e-01,\n",
      "          5.04602501e-01],\n",
      "       [ -5.11338745e-01,  -1.68568087e+00,   3.34793038e-01,\n",
      "         -1.39227040e+00,  -1.27737428e-01,   1.81128444e-02,\n",
      "         -2.70771712e-01,  -2.85972631e-01,  -7.00353264e-01,\n",
      "          2.07160668e+00],\n",
      "       [ -1.95538895e-01,   1.01634735e+00,   4.37319055e-01,\n",
      "         -4.68542028e-01,  -4.36973432e-01,   1.84012673e+00,\n",
      "          7.99867184e-01,   1.39182039e-01,   1.16931266e+00,\n",
      "          4.47586574e-01],\n",
      "       [  1.22315542e-01,  -2.51704325e-01,  -1.18286961e+00,\n",
      "         -2.30263411e-01,  -1.70604293e+00,   4.55687000e-01,\n",
      "          1.17708671e+00,  -5.42591810e-01,   2.91011274e-01,\n",
      "          1.23819588e+00],\n",
      "       [  6.82915438e-01,   6.44942768e-01,   1.37605279e+00,\n",
      "          2.37587771e+00,   1.48447688e+00,  -3.72810132e-01,\n",
      "         -8.13038393e-01,  -3.34543249e-01,   2.80565768e-01,\n",
      "         -1.85819852e+00],\n",
      "       [  3.44017258e-01,   9.25301581e-01,   3.98258201e-01,\n",
      "          3.48366718e-01,  -2.89978822e-01,  -1.32849261e+00,\n",
      "         -5.28505330e-03,   1.89135993e+00,   5.51883207e-02,\n",
      "         -8.33225820e-01]]), array([[ -1.14955555e+00,  -9.27863220e-01,  -4.76297450e-01,\n",
      "         -6.65405999e-01,  -3.31259164e-02,  -9.88052899e-01,\n",
      "         -8.16597826e-01,  -9.91889605e-02,  -1.56200121e+00,\n",
      "          2.32642974e-01,  -1.28794304e+00,   6.79643543e-01,\n",
      "          1.27770166e+00,  -4.93912834e-01,   1.16482422e+00],\n",
      "       [  7.90129944e-01,  -7.98762996e-01,   3.87305939e-03,\n",
      "          5.19644109e-01,   5.30442188e-01,  -1.24718290e+00,\n",
      "          3.66807848e-01,   4.42586117e-01,  -1.29274182e+00,\n",
      "          1.93761798e+00,  -1.50278622e+00,   1.40321206e+00,\n",
      "          1.40560231e+00,  -9.65303083e-02,   4.33954349e-01],\n",
      "       [ -1.31492607e+00,  -5.04265239e-01,  -7.47630753e-01,\n",
      "          9.67945928e-01,   1.27552416e+00,   7.95279289e-01,\n",
      "          6.43108068e-01,  -9.67704761e-01,  -1.01866354e-01,\n",
      "          2.28858748e-01,   6.71474871e-02,  -3.81869039e-01,\n",
      "         -6.73083880e-01,   8.73523388e-01,   2.53417403e+00],\n",
      "       [  1.77155115e-01,   1.27246084e+00,   5.77902723e-01,\n",
      "          6.72445997e-01,   3.38581983e-01,   1.57332006e+00,\n",
      "          1.97308784e-02,   8.20066732e-01,  -9.13492790e-01,\n",
      "          2.42393839e-01,   2.76707817e-01,  -2.53306199e-01,\n",
      "          4.29784622e-01,   9.70170202e-01,   9.42774674e-03],\n",
      "       [  3.20606041e-01,   5.92075151e-01,   1.19958658e+00,\n",
      "         -4.10337503e-01,  -3.35096745e-01,  -2.07455526e-01,\n",
      "          1.18243005e+00,  -1.60087887e+00,   5.88153310e-01,\n",
      "          1.31717761e+00,  -3.03798326e-01,  -7.16928146e-01,\n",
      "         -1.03075201e+00,  -1.30811403e+00,   2.14943747e-01],\n",
      "       [  6.99402562e-01,   1.10439090e+00,   2.37211313e-03,\n",
      "          1.28401767e+00,   6.65388125e-01,  -1.57691893e+00,\n",
      "         -2.58574554e-01,   1.64662779e+00,   1.02552456e+00,\n",
      "          3.39672794e-01,   1.36394169e+00,   1.28756843e+00,\n",
      "         -1.78896904e-01,   1.33433738e+00,   1.25606111e+00],\n",
      "       [ -7.93896661e-01,   4.04666477e-01,  -3.44308045e-01,\n",
      "         -1.25464967e+00,   1.96318870e+00,   3.65756931e-01,\n",
      "         -7.75275388e-01,   1.26621099e+00,   5.51749414e-01,\n",
      "         -4.65792520e-01,   1.58754887e+00,  -6.99324403e-01,\n",
      "         -4.43328735e-02,   8.44951476e-01,   8.72381330e-02]])]\n"
     ]
    }
   ],
   "source": [
    "# WEIGHTS\n",
    "print(weights_tmp)"
   ]
  },
  {
   "cell_type": "markdown",
   "metadata": {},
   "source": [
    "## Sigmoid activation function\n",
    "\n",
    "* Introduces non-linearity\n",
    "* Saturation problem\n",
    "\n",
    "<img src=\"files/sigmoid.png\" />\n",
    "\n",
    "Other types of activation functions http://cs231n.github.io/neural-networks-1/#actfun:\n",
    "* Tanh\n",
    "* ReLU\n",
    "* Leaky ReLU\n",
    "* ELU\n",
    "* Maxout"
   ]
  },
  {
   "cell_type": "code",
   "execution_count": 16,
   "metadata": {
    "collapsed": true
   },
   "outputs": [],
   "source": [
    "def sigmoid(z):\n",
    "    return 1.0/(1.0+np.exp(-z))"
   ]
  },
  {
   "cell_type": "code",
   "execution_count": 39,
   "metadata": {},
   "outputs": [
    {
     "data": {
      "text/plain": [
       "[<matplotlib.lines.Line2D at 0x7f6e5c6075d0>]"
      ]
     },
     "execution_count": 39,
     "metadata": {},
     "output_type": "execute_result"
    },
    {
     "data": {
      "image/png": "[encoded data removed]",
      "text/plain": [
       "<matplotlib.figure.Figure at 0x7f6e5c707090>"
      ]
     },
     "metadata": {},
     "output_type": "display_data"
    }
   ],
   "source": [
    "# Sigmoid function plot\n",
    "x = np.linspace(-7, 7, 80)\n",
    "plt.plot(x, sigmoid(x))\n",
    "\n",
    "# center of sigmoid\n",
    "plt.plot([0,0], [0, 1], c='orange')\n",
    "plt.plot([-7,7], [0.5, 0.5], c='orange')"
   ]
  },
  {
   "cell_type": "markdown",
   "metadata": {},
   "source": [
    "## Forward pass"
   ]
  },
  {
   "cell_type": "code",
   "execution_count": 41,
   "metadata": {
    "collapsed": true
   },
   "outputs": [],
   "source": [
    "def feedforward(biases, weights, a):\n",
    "    for b, w in zip(biases, weights):\n",
    "        a = sigmoid(np.dot(w, a)+b)\n",
    "        \n",
    "    return a"
   ]
  },
  {
   "cell_type": "markdown",
   "metadata": {},
   "source": [
    "## Backward pass\n",
    "\n",
    "* Derivative of sigmoid (http://www.ai.mit.edu/courses/6.892/lecture8-html/sld015.htm)"
   ]
  },
  {
   "cell_type": "code",
   "execution_count": 49,
   "metadata": {
    "collapsed": true
   },
   "outputs": [],
   "source": [
    "# Take a single training example, forward it through network, computes cost\n",
    "# and compute gradient of weights and biases for each neuron.\n",
    "def backprop(biases, weights, x, y):\n",
    "    # Derivate of sigmoid\n",
    "    def sigmoid_prime(z):\n",
    "        return sigmoid(z)*(1-sigmoid(z))\n",
    "    \n",
    "    # Cost function\n",
    "    def cost_derivative(output_activations, y):\n",
    "        return (output_activations-y)    \n",
    "    \n",
    "    # gradients of the cost function for each layer\n",
    "    nabla_b = zeros_like(biases)\n",
    "    nabla_w = zeros_like(weights)\n",
    "    \n",
    "    # FORWARD PASS\n",
    "    activation = x\n",
    "    activations = [x] # list to store all the activations, layer by layer\n",
    "    zs = [] # list to store all the z vectors, layer by layer\n",
    "    \n",
    "    for b, w in zip(biases, weights):\n",
    "        z = np.dot(w, activation)+b        \n",
    "        activation = sigmoid(z)\n",
    "        \n",
    "        # store all previous z and a vectors\n",
    "        zs.append(z)\n",
    "        activations.append(activation)\n",
    "        \n",
    "    # BACKWARD PASS\n",
    "    # the last layer\n",
    "    delta = cost_derivative(activations[-1], y) * sigmoid_prime(zs[-1])\n",
    "    nabla_b[-1] = delta\n",
    "    nabla_w[-1] = np.dot(delta, activations[-2].transpose())\n",
    "    \n",
    "    # previous layers\n",
    "    # going backwards layer by layer\n",
    "    num_layers = len(weights)+1\n",
    "    for l in xrange(2, num_layers):\n",
    "        z = zs[-l]\n",
    "        sp = sigmoid_prime(z)\n",
    "        delta = np.dot(weights[-l+1].transpose(), delta) * sp\n",
    "        \n",
    "        nabla_b[-l] = delta\n",
    "        nabla_w[-l] = np.dot(delta, activations[-l-1].transpose())\n",
    "        \n",
    "    return (nabla_b, nabla_w)"
   ]
  },
  {
   "cell_type": "markdown",
   "metadata": {},
   "source": [
    "## Minibatch\n",
    "\n",
    "Minibatch is randomly selected training inputs of fixed size.\n",
    "\n",
    "## Stochastic gradient descent\n",
    "\n",
    "<img src=\"files/gradient-descent.png\" />\n",
    "\n",
    "<img src=\"files/sgd-update.png\" />"
   ]
  },
  {
   "cell_type": "code",
   "execution_count": 50,
   "metadata": {
    "collapsed": true
   },
   "outputs": [],
   "source": [
    "# Update weights.\n",
    "def update_mini_batch(biases, weights, mini_batch, eta):\n",
    "    def update(v, nv, eta, mini_batch_size):\n",
    "        return v-(eta/mini_batch_size)*nv\n",
    "    \n",
    "    def cumulate(nabla_v, delta_nabla_v):\n",
    "        return [nv+dnv for nv, dnv in zip(nabla_v, delta_nabla_v)]\n",
    "        \n",
    "    nabla_b = zeros_like(biases)\n",
    "    nabla_w = zeros_like(weights)\n",
    "    \n",
    "    # Collect weights and bias gradients for each minibatch and sum them\n",
    "    for x, y in mini_batch:\n",
    "        delta_nabla_b, delta_nabla_w = backprop(biases, weights, x, y)\n",
    "        nabla_b = cumulate(nabla_b, delta_nabla_b)\n",
    "        nabla_w = cumulate(nabla_w, delta_nabla_w)\n",
    "    \n",
    "    mini_batch_size = len(mini_batch)\n",
    "    \n",
    "    weights = [update(w, nw, eta, mini_batch_size)\n",
    "               for w, nw in zip(weights, nabla_w)]\n",
    "    \n",
    "    biases = [update(b, nb, eta, mini_batch_size)\n",
    "              for b, nb in zip(biases, nabla_b)]\n",
    "    \n",
    "    return biases, weights"
   ]
  },
  {
   "cell_type": "markdown",
   "metadata": {},
   "source": [
    "## Training\n",
    "* Epoch"
   ]
  },
  {
   "cell_type": "code",
   "execution_count": null,
   "metadata": {
    "collapsed": true
   },
   "outputs": [],
   "source": [
    "def SGD(biases, weights, training_data, epochs, mini_batch_size, eta, test_data=None):\n",
    "    \"\"\"Train the neural network using mini-batch stochastic\n",
    "    gradient descent.  The ``training_data`` is a list of tuples\n",
    "    ``(x, y)`` representing the training inputs and the desired\n",
    "    outputs.  The other non-optional parameters are\n",
    "    self-explanatory.  If ``test_data`` is provided then the\n",
    "    network will be evaluated against the test data after each\n",
    "    epoch, and partial progress printed out.  This is useful for\n",
    "    tracking progress, but slows things down substantially.\"\"\"\n",
    "    \n",
    "    def evaluate(biases, weights, data, training_data_evalution=False):\n",
    "        if training_data_evalution:\n",
    "            test_results = [(np.argmax(feedforward(biases, weights, x)), np.argmax(y)) for (x, y) in data]\n",
    "        else:\n",
    "            test_results = [(np.argmax(feedforward(biases, weights, x)), y) for (x, y) in data]\n",
    "\n",
    "        return sum(int(x == y) for (x, y) in test_results)\n",
    "    \n",
    "    if test_data:\n",
    "        n_test = len(test_data)\n",
    "\n",
    "    n = len(training_data)\n",
    "    test_acc_lst = []\n",
    "    train_acc_lst = []\n",
    "    \n",
    "    for j in xrange(epochs):\n",
    "        random.shuffle(training_data)\n",
    "        \n",
    "        mini_batches = [training_data[k:k+mini_batch_size] for k in xrange(0, n, mini_batch_size)]\n",
    "        \n",
    "        for mini_batch in mini_batches:\n",
    "            biases, weights = update_mini_batch(biases, weights, mini_batch, eta)\n",
    "            \n",
    "        if test_data:\n",
    "            test_acc = evaluate(biases, weights, test_data)\n",
    "            test_acc_lst.append(test_acc/n_test)\n",
    "            \n",
    "            train_acc = evaluate(biases, weights, training_data, training_data_evalution=True)\n",
    "            train_acc_lst.append(train_acc/n)\n",
    "            \n",
    "            print(\"Epoch {0}: {1} / {2}\".format(j, test_acc, n_test))\n",
    "        else:\n",
    "            print(\"Epoch {0} complete\".format(j))\n",
    "            \n",
    "    return biases, weights, train_acc_lst, test_acc_lst"
   ]
  },
  {
   "cell_type": "markdown",
   "metadata": {},
   "source": [
    "## MNIST dataset\n",
    "* http://yann.lecun.com/exdb/mnist/\n",
    "* 28 by 28 pixels\n",
    "* grayscale images"
   ]
  },
  {
   "cell_type": "code",
   "execution_count": 3,
   "metadata": {
    "collapsed": true
   },
   "outputs": [],
   "source": [
    "import mnist_loader\n",
    "training_data, validation_data, test_data = mnist_loader.load_data_wrapper()"
   ]
  },
  {
   "cell_type": "code",
   "execution_count": 4,
   "metadata": {},
   "outputs": [
    {
     "name": "stdout",
     "output_type": "stream",
     "text": [
      "2\n"
     ]
    },
    {
     "data": {
      "image/png": "[encoded data removed]",
      "text/plain": [
       "<matplotlib.figure.Figure at 0x7f6e5dc46c10>"
      ]
     },
     "metadata": {},
     "output_type": "display_data"
    }
   ],
   "source": [
    "# Display random image and label from training data.\n",
    "\n",
    "def random_data_sample(data):\n",
    "    ri = random.randint(0, len(data)-1)\n",
    "    X_rand = data[ri][0]\n",
    "    y_rand = data[ri][1]\n",
    "    \n",
    "    return X_rand, y_rand\n",
    "\n",
    "def display_random_digit(data):\n",
    "    X_rand, y_rand = random_data_sample(data)\n",
    "\n",
    "    rand_img = X_rand.reshape((28, 28))\n",
    "    plt.figure()\n",
    "    plt.imshow(rand_img, cmap='gray')\n",
    "    \n",
    "    print(np.argmax(y_rand))\n",
    "    \n",
    "display_random_digit(training_data)"
   ]
  },
  {
   "cell_type": "markdown",
   "metadata": {},
   "source": [
    "## One hot encoding"
   ]
  },
  {
   "cell_type": "code",
   "execution_count": null,
   "metadata": {
    "collapsed": true
   },
   "outputs": [],
   "source": [
    "def display_random_one_hot_encoding(data):\n",
    "    _, y_rand = random_data_sample(data)\n",
    "    print(y_rand)\n",
    "    plt.figure()\n",
    "    plt.imshow(y_rand.T, cmap='gray')\n",
    "    print(np.argmax(y_rand))\n",
    "    \n",
    "display_random_one_hot_encoding(training_data)"
   ]
  },
  {
   "cell_type": "code",
   "execution_count": null,
   "metadata": {
    "collapsed": true
   },
   "outputs": [],
   "source": [
    "# def evaluate(biases, weights, test_data):\n",
    "#     \"\"\"Return the number of test inputs for which the neural\n",
    "#     network outputs the correct result. Note that the neural\n",
    "#     network's output is assumed to be the index of whichever\n",
    "#     neuron in the final layer has the highest activation.\"\"\"\n",
    "    \n",
    "#     test_results = [(np.argmax(feedforward(biases, weights, x)), y) for (x, y) in test_data]\n",
    "#     return sum(int(x == y) for (x, y) in test_results)"
   ]
  },
  {
   "cell_type": "markdown",
   "metadata": {},
   "source": [
    "TODO display random numbers\n",
    "TODO graph"
   ]
  },
  {
   "cell_type": "code",
   "execution_count": null,
   "metadata": {
    "collapsed": true
   },
   "outputs": [],
   "source": [
    "%time\n",
    "\n",
    "# The first layer containing 2 neurons, the second layer 3 neurons, and the third layer 1 neuron.  \n",
    "layers = [784, 30, 10]\n",
    "biases = init_biases(layers)\n",
    "weights = init_weights(layers)\n",
    "\n",
    "# Training\n",
    "epochs=3\n",
    "mini_batch_size=10\n",
    "eta=3.0\n",
    "\n",
    "biases_final, weights_final, train_acc, test_acc = SGD(biases, weights, training_data, epochs, mini_batch_size, eta, test_data=validation_data)\n",
    "\n",
    "# Plot training curves\n",
    "plt.plot(range(len(test_acc)), test_acc, c=\"r\")\n",
    "plt.plot(range(len(train_acc)), train_acc, c=\"b\")\n",
    "plt.ylabel(\"accuracy\")\n",
    "plt.xlabel(\"epochs\")"
   ]
  },
  {
   "cell_type": "markdown",
   "metadata": {},
   "source": [
    "## Keras"
   ]
  }
 ],
 "metadata": {
  "kernelspec": {
   "display_name": "Python 2",
   "language": "python",
   "name": "python2"
  },
  "language_info": {
   "codemirror_mode": {
    "name": "ipython",
    "version": 2
   },
   "file_extension": ".py",
   "mimetype": "text/x-python",
   "name": "python",
   "nbconvert_exporter": "python",
   "pygments_lexer": "ipython2",
   "version": "2.7.13"
  }
 },
 "nbformat": 4,
 "nbformat_minor": 2
}
